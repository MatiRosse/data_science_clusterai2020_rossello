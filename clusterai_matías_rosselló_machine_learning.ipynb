{
 "cells": [
  {
   "cell_type": "markdown",
   "metadata": {},
   "source": [
    "# Enfermedad Dengue en la República Argentina - Aplicación de Machine Learning para su estudio y predicción de casos \n",
    "## Modelos \n",
    "#### Elaborado por: Fresca, Lorenzo - Mojico, Ailín- Rosselló, Matías\n",
    "#### Ingeniería Industrial UTN FRBA"
   ]
  },
  {
   "cell_type": "code",
   "execution_count": 1,
   "metadata": {
    "colab": {
     "base_uri": "https://localhost:8080/",
     "height": 72,
     "resources": {
      "http://localhost:8080/nbextensions/google.colab/files.js": {
       "data": "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",
       "headers": [
        [
         "content-type",
         "application/javascript"
        ]
       ],
       "ok": true,
       "status": 200,
       "status_text": ""
      }
     }
    },
    "executionInfo": {
     "elapsed": 30758,
     "status": "ok",
     "timestamp": 1605642614355,
     "user": {
      "displayName": "Lorenzo Fresca",
      "photoUrl": "",
      "userId": "12706337198170933235"
     },
     "user_tz": 180
    },
    "id": "YwAyW-TZsV94",
    "outputId": "d534f484-ec4b-4cab-c27d-d924af77e933"
   },
   "outputs": [],
   "source": [
    "#Carga de archivos en Colab\n",
    "#from google.colab import files\n",
    "#upload=files.upload()"
   ]
  },
  {
   "cell_type": "code",
   "execution_count": 2,
   "metadata": {
    "executionInfo": {
     "elapsed": 1712,
     "status": "ok",
     "timestamp": 1605642549869,
     "user": {
      "displayName": "Lorenzo Fresca",
      "photoUrl": "",
      "userId": "12706337198170933235"
     },
     "user_tz": 180
    },
    "id": "n9QLgk5HfyWU"
   },
   "outputs": [],
   "source": [
    "import pandas as pd\n",
    "import numpy as np\n",
    "import warnings\n",
    "import statsmodels.api as sm \n",
    "warnings.filterwarnings('ignore')\n",
    "\n",
    "from sklearn import preprocessing\n",
    "from sklearn.neighbors import KNeighborsRegressor\n",
    "from sklearn.model_selection import train_test_split, GridSearchCV\n",
    "from sklearn.preprocessing import PolynomialFeatures,StandardScaler,MinMaxScaler\n",
    "from sklearn.linear_model import LinearRegression , Ridge\n",
    "from sklearn.svm import SVR\n",
    "from sklearn.metrics import r2_score, mean_squared_error, mean_absolute_error, accuracy_score\n",
    "from sklearn import neighbors\n"
   ]
  },
  {
   "cell_type": "code",
   "execution_count": 3,
   "metadata": {
    "colab": {
     "base_uri": "https://localhost:8080/"
    },
    "executionInfo": {
     "elapsed": 1614,
     "status": "ok",
     "timestamp": 1605642554339,
     "user": {
      "displayName": "Lorenzo Fresca",
      "photoUrl": "",
      "userId": "12706337198170933235"
     },
     "user_tz": 180
    },
    "id": "sJ4_A-HEfyWV",
    "outputId": "137b80ff-1f6a-4940-ad25-25f67457d3e7"
   },
   "outputs": [
    {
     "name": "stdout",
     "output_type": "stream",
     "text": [
      " El volumen de la unidad C no tiene etiqueta.\n",
      " El n£mero de serie del volumen es: 46CA-A7CB\n",
      "\n",
      " Directorio de C:\\Users\\MatiRosse\\Desktop\\Ciencia de datos\\Facultad\\TP CUATRI\\TP Modificaciones\n",
      "\n",
      "18/11/20  19:34    <DIR>          .\n",
      "18/11/20  19:34    <DIR>          ..\n",
      "18/11/20  19:32    <DIR>          .ipynb_checkpoints\n",
      "12/11/20  00:08            66,521 Casos_Dengue_Procesados.csv\n",
      "16/11/20  17:18            23,755 Casos_Dengue_Procesados_5m.csv\n",
      "15/11/20  15:22            30,647 Casos_Dengue_Procesados_6m.csv\n",
      "11/11/20  14:37            17,387 Casos_Dengue_Procesados_actualizado.csv\n",
      "18/11/20  19:18         1,160,757 clusterai_mat¡as_rossell¢_eda.ipynb.ipynb\n",
      "18/11/20  19:34           133,983 clusterai_mat¡as_rossell¢_machine_learning.ipynb\n",
      "18/11/20  19:16           281,237 Dengue- PreProcessing.ipynb\n",
      "01/11/20  19:15           356,033 Dengue_Zika.ipynb\n",
      "10/11/20  19:45           830,814 EDA casos dengue - copia.ipynb\n",
      "03/10/20  11:07            65,590 estaciones_meteorologicas_provincias.csv\n",
      "10/11/20  20:05         6,976,360 Exp_183015_horarios.csv\n",
      "10/11/20  17:57         7,464,458 Exp_183015_horarios.xlsx\n",
      "11/11/20  14:37             3,417 Exp_183015_observatorios.csv\n",
      "10/11/20  19:55            83,126 Exp_183015_observatorios.xlsx\n",
      "10/11/20  20:05            42,649 Exp_183015_precipitaciones.csv\n",
      "10/11/20  17:57           147,456 Exp_183015_precipitaciones.xls\n",
      "17/10/20  15:39                72 Untitled.ipynb\n",
      "08/11/20  20:44            22,447 Untitled1.ipynb\n",
      "10/11/20  20:08                72 Untitled2.ipynb\n",
      "11/11/20  17:05                72 Untitled3.ipynb\n",
      "11/11/20  20:40                72 Untitled4.ipynb\n",
      "16/11/20  17:28                72 Untitled5.ipynb\n",
      "25/09/20  12:20           107,655 vigilancia-de-dengue-y-zika_2019.csv\n",
      "30/10/20  14:57            94,515 vigilancia-de-dengue-y-zika_2019_actualizado.csv\n",
      "11/11/20  09:21           557,564 vigilancia-de-dengue-y-zika_2020.csv\n",
      "11/11/20  09:20           364,725 vigilancia-de-dengue-y-zika_2020.xlsx\n",
      "              26 archivos     18,831,456 bytes\n",
      "               3 dirs  284,257,292,288 bytes libres\n"
     ]
    }
   ],
   "source": [
    "ls"
   ]
  },
  {
   "cell_type": "code",
   "execution_count": 4,
   "metadata": {
    "colab": {
     "base_uri": "https://localhost:8080/",
     "height": 419
    },
    "executionInfo": {
     "elapsed": 812,
     "status": "ok",
     "timestamp": 1605642643454,
     "user": {
      "displayName": "Lorenzo Fresca",
      "photoUrl": "",
      "userId": "12706337198170933235"
     },
     "user_tz": 180
    },
    "id": "9qqy7VCksa74",
    "outputId": "243f077e-42b1-4480-e10a-329c536b2a5e"
   },
   "outputs": [
    {
     "data": {
      "text/html": [
       "<div>\n",
       "<style scoped>\n",
       "    .dataframe tbody tr th:only-of-type {\n",
       "        vertical-align: middle;\n",
       "    }\n",
       "\n",
       "    .dataframe tbody tr th {\n",
       "        vertical-align: top;\n",
       "    }\n",
       "\n",
       "    .dataframe thead th {\n",
       "        text-align: right;\n",
       "    }\n",
       "</style>\n",
       "<table border=\"1\" class=\"dataframe\">\n",
       "  <thead>\n",
       "    <tr style=\"text-align: right;\">\n",
       "      <th></th>\n",
       "      <th>Provincia</th>\n",
       "      <th>Mes</th>\n",
       "      <th>Anio</th>\n",
       "      <th>Temperatura</th>\n",
       "      <th>Precipitacion</th>\n",
       "      <th>Humedad</th>\n",
       "      <th>Vel_vientos</th>\n",
       "      <th>cantidad_casos</th>\n",
       "    </tr>\n",
       "  </thead>\n",
       "  <tbody>\n",
       "    <tr>\n",
       "      <th>0</th>\n",
       "      <td>BUENOS AIRES</td>\n",
       "      <td>1</td>\n",
       "      <td>2018</td>\n",
       "      <td>23.818903</td>\n",
       "      <td>78.826000</td>\n",
       "      <td>59.146452</td>\n",
       "      <td>14.287097</td>\n",
       "      <td>0</td>\n",
       "    </tr>\n",
       "    <tr>\n",
       "      <th>1</th>\n",
       "      <td>BUENOS AIRES</td>\n",
       "      <td>1</td>\n",
       "      <td>2019</td>\n",
       "      <td>22.901084</td>\n",
       "      <td>131.553399</td>\n",
       "      <td>69.955962</td>\n",
       "      <td>14.790099</td>\n",
       "      <td>0</td>\n",
       "    </tr>\n",
       "    <tr>\n",
       "      <th>2</th>\n",
       "      <td>BUENOS AIRES</td>\n",
       "      <td>1</td>\n",
       "      <td>2020</td>\n",
       "      <td>22.715584</td>\n",
       "      <td>79.471401</td>\n",
       "      <td>62.084416</td>\n",
       "      <td>15.177807</td>\n",
       "      <td>103</td>\n",
       "    </tr>\n",
       "    <tr>\n",
       "      <th>3</th>\n",
       "      <td>BUENOS AIRES</td>\n",
       "      <td>2</td>\n",
       "      <td>2018</td>\n",
       "      <td>23.143357</td>\n",
       "      <td>49.372000</td>\n",
       "      <td>62.202143</td>\n",
       "      <td>13.391429</td>\n",
       "      <td>9</td>\n",
       "    </tr>\n",
       "    <tr>\n",
       "      <th>4</th>\n",
       "      <td>BUENOS AIRES</td>\n",
       "      <td>2</td>\n",
       "      <td>2019</td>\n",
       "      <td>21.580357</td>\n",
       "      <td>60.700000</td>\n",
       "      <td>66.137143</td>\n",
       "      <td>12.844286</td>\n",
       "      <td>7</td>\n",
       "    </tr>\n",
       "    <tr>\n",
       "      <th>...</th>\n",
       "      <td>...</td>\n",
       "      <td>...</td>\n",
       "      <td>...</td>\n",
       "      <td>...</td>\n",
       "      <td>...</td>\n",
       "      <td>...</td>\n",
       "      <td>...</td>\n",
       "      <td>...</td>\n",
       "    </tr>\n",
       "    <tr>\n",
       "      <th>745</th>\n",
       "      <td>USHUAIA</td>\n",
       "      <td>10</td>\n",
       "      <td>2019</td>\n",
       "      <td>6.205645</td>\n",
       "      <td>47.900000</td>\n",
       "      <td>66.177419</td>\n",
       "      <td>28.225806</td>\n",
       "      <td>0</td>\n",
       "    </tr>\n",
       "    <tr>\n",
       "      <th>746</th>\n",
       "      <td>USHUAIA</td>\n",
       "      <td>11</td>\n",
       "      <td>2018</td>\n",
       "      <td>8.048333</td>\n",
       "      <td>23.500000</td>\n",
       "      <td>61.933333</td>\n",
       "      <td>30.483333</td>\n",
       "      <td>0</td>\n",
       "    </tr>\n",
       "    <tr>\n",
       "      <th>747</th>\n",
       "      <td>USHUAIA</td>\n",
       "      <td>11</td>\n",
       "      <td>2019</td>\n",
       "      <td>7.395833</td>\n",
       "      <td>50.100000</td>\n",
       "      <td>71.591667</td>\n",
       "      <td>22.641667</td>\n",
       "      <td>0</td>\n",
       "    </tr>\n",
       "    <tr>\n",
       "      <th>748</th>\n",
       "      <td>USHUAIA</td>\n",
       "      <td>12</td>\n",
       "      <td>2018</td>\n",
       "      <td>9.560484</td>\n",
       "      <td>24.200000</td>\n",
       "      <td>63.362903</td>\n",
       "      <td>25.620968</td>\n",
       "      <td>0</td>\n",
       "    </tr>\n",
       "    <tr>\n",
       "      <th>749</th>\n",
       "      <td>USHUAIA</td>\n",
       "      <td>12</td>\n",
       "      <td>2019</td>\n",
       "      <td>9.342742</td>\n",
       "      <td>39.800000</td>\n",
       "      <td>67.120968</td>\n",
       "      <td>25.290323</td>\n",
       "      <td>0</td>\n",
       "    </tr>\n",
       "  </tbody>\n",
       "</table>\n",
       "<p>750 rows × 8 columns</p>\n",
       "</div>"
      ],
      "text/plain": [
       "        Provincia  Mes  Anio  Temperatura  Precipitacion    Humedad  \\\n",
       "0    BUENOS AIRES    1  2018    23.818903      78.826000  59.146452   \n",
       "1    BUENOS AIRES    1  2019    22.901084     131.553399  69.955962   \n",
       "2    BUENOS AIRES    1  2020    22.715584      79.471401  62.084416   \n",
       "3    BUENOS AIRES    2  2018    23.143357      49.372000  62.202143   \n",
       "4    BUENOS AIRES    2  2019    21.580357      60.700000  66.137143   \n",
       "..            ...  ...   ...          ...            ...        ...   \n",
       "745       USHUAIA   10  2019     6.205645      47.900000  66.177419   \n",
       "746       USHUAIA   11  2018     8.048333      23.500000  61.933333   \n",
       "747       USHUAIA   11  2019     7.395833      50.100000  71.591667   \n",
       "748       USHUAIA   12  2018     9.560484      24.200000  63.362903   \n",
       "749       USHUAIA   12  2019     9.342742      39.800000  67.120968   \n",
       "\n",
       "     Vel_vientos  cantidad_casos  \n",
       "0      14.287097               0  \n",
       "1      14.790099               0  \n",
       "2      15.177807             103  \n",
       "3      13.391429               9  \n",
       "4      12.844286               7  \n",
       "..           ...             ...  \n",
       "745    28.225806               0  \n",
       "746    30.483333               0  \n",
       "747    22.641667               0  \n",
       "748    25.620968               0  \n",
       "749    25.290323               0  \n",
       "\n",
       "[750 rows x 8 columns]"
      ]
     },
     "execution_count": 4,
     "metadata": {},
     "output_type": "execute_result"
    }
   ],
   "source": [
    "#Leemos el dataframe ya pre-procesado\n",
    "dengue=pd.read_csv(\"Casos_Dengue_Procesados.csv\", encoding = \"latin\")\n",
    "dengue.dropna(how ='any', inplace = True)\n",
    "dengue"
   ]
  },
  {
   "cell_type": "code",
   "execution_count": 5,
   "metadata": {
    "colab": {
     "base_uri": "https://localhost:8080/",
     "height": 419
    },
    "executionInfo": {
     "elapsed": 769,
     "status": "ok",
     "timestamp": 1605642648116,
     "user": {
      "displayName": "Lorenzo Fresca",
      "photoUrl": "",
      "userId": "12706337198170933235"
     },
     "user_tz": 180
    },
    "id": "Db7p4OOTfyWb",
    "outputId": "2f33ad86-3d96-4ba0-c14d-4926fb07fbe4"
   },
   "outputs": [
    {
     "data": {
      "text/html": [
       "<div>\n",
       "<style scoped>\n",
       "    .dataframe tbody tr th:only-of-type {\n",
       "        vertical-align: middle;\n",
       "    }\n",
       "\n",
       "    .dataframe tbody tr th {\n",
       "        vertical-align: top;\n",
       "    }\n",
       "\n",
       "    .dataframe thead th {\n",
       "        text-align: right;\n",
       "    }\n",
       "</style>\n",
       "<table border=\"1\" class=\"dataframe\">\n",
       "  <thead>\n",
       "    <tr style=\"text-align: right;\">\n",
       "      <th></th>\n",
       "      <th>Provincia</th>\n",
       "      <th>Mes</th>\n",
       "      <th>Anio</th>\n",
       "      <th>Temperatura</th>\n",
       "      <th>Precipitacion</th>\n",
       "      <th>Humedad</th>\n",
       "      <th>Vel_vientos</th>\n",
       "      <th>cantidad_casos</th>\n",
       "    </tr>\n",
       "  </thead>\n",
       "  <tbody>\n",
       "    <tr>\n",
       "      <th>0</th>\n",
       "      <td>BUENOS AIRES</td>\n",
       "      <td>1</td>\n",
       "      <td>2018</td>\n",
       "      <td>23.818903</td>\n",
       "      <td>78.826000</td>\n",
       "      <td>59.146452</td>\n",
       "      <td>14.287097</td>\n",
       "      <td>0</td>\n",
       "    </tr>\n",
       "    <tr>\n",
       "      <th>1</th>\n",
       "      <td>BUENOS AIRES</td>\n",
       "      <td>1</td>\n",
       "      <td>2019</td>\n",
       "      <td>22.901084</td>\n",
       "      <td>131.553399</td>\n",
       "      <td>69.955962</td>\n",
       "      <td>14.790099</td>\n",
       "      <td>0</td>\n",
       "    </tr>\n",
       "    <tr>\n",
       "      <th>2</th>\n",
       "      <td>BUENOS AIRES</td>\n",
       "      <td>1</td>\n",
       "      <td>2020</td>\n",
       "      <td>22.715584</td>\n",
       "      <td>79.471401</td>\n",
       "      <td>62.084416</td>\n",
       "      <td>15.177807</td>\n",
       "      <td>103</td>\n",
       "    </tr>\n",
       "    <tr>\n",
       "      <th>3</th>\n",
       "      <td>BUENOS AIRES</td>\n",
       "      <td>2</td>\n",
       "      <td>2018</td>\n",
       "      <td>23.143357</td>\n",
       "      <td>49.372000</td>\n",
       "      <td>62.202143</td>\n",
       "      <td>13.391429</td>\n",
       "      <td>9</td>\n",
       "    </tr>\n",
       "    <tr>\n",
       "      <th>4</th>\n",
       "      <td>BUENOS AIRES</td>\n",
       "      <td>2</td>\n",
       "      <td>2019</td>\n",
       "      <td>21.580357</td>\n",
       "      <td>60.700000</td>\n",
       "      <td>66.137143</td>\n",
       "      <td>12.844286</td>\n",
       "      <td>7</td>\n",
       "    </tr>\n",
       "    <tr>\n",
       "      <th>...</th>\n",
       "      <td>...</td>\n",
       "      <td>...</td>\n",
       "      <td>...</td>\n",
       "      <td>...</td>\n",
       "      <td>...</td>\n",
       "      <td>...</td>\n",
       "      <td>...</td>\n",
       "      <td>...</td>\n",
       "    </tr>\n",
       "    <tr>\n",
       "      <th>733</th>\n",
       "      <td>USHUAIA</td>\n",
       "      <td>5</td>\n",
       "      <td>2019</td>\n",
       "      <td>4.674194</td>\n",
       "      <td>26.500000</td>\n",
       "      <td>73.217742</td>\n",
       "      <td>19.612903</td>\n",
       "      <td>0</td>\n",
       "    </tr>\n",
       "    <tr>\n",
       "      <th>734</th>\n",
       "      <td>USHUAIA</td>\n",
       "      <td>5</td>\n",
       "      <td>2020</td>\n",
       "      <td>5.681301</td>\n",
       "      <td>25.000000</td>\n",
       "      <td>75.008130</td>\n",
       "      <td>17.276423</td>\n",
       "      <td>0</td>\n",
       "    </tr>\n",
       "    <tr>\n",
       "      <th>735</th>\n",
       "      <td>USHUAIA</td>\n",
       "      <td>6</td>\n",
       "      <td>2018</td>\n",
       "      <td>2.753846</td>\n",
       "      <td>72.800000</td>\n",
       "      <td>74.648352</td>\n",
       "      <td>17.703297</td>\n",
       "      <td>0</td>\n",
       "    </tr>\n",
       "    <tr>\n",
       "      <th>736</th>\n",
       "      <td>USHUAIA</td>\n",
       "      <td>6</td>\n",
       "      <td>2019</td>\n",
       "      <td>2.339496</td>\n",
       "      <td>38.900000</td>\n",
       "      <td>80.546218</td>\n",
       "      <td>14.134454</td>\n",
       "      <td>0</td>\n",
       "    </tr>\n",
       "    <tr>\n",
       "      <th>737</th>\n",
       "      <td>USHUAIA</td>\n",
       "      <td>6</td>\n",
       "      <td>2020</td>\n",
       "      <td>2.635833</td>\n",
       "      <td>32.400000</td>\n",
       "      <td>77.150000</td>\n",
       "      <td>19.375000</td>\n",
       "      <td>0</td>\n",
       "    </tr>\n",
       "  </tbody>\n",
       "</table>\n",
       "<p>450 rows × 8 columns</p>\n",
       "</div>"
      ],
      "text/plain": [
       "        Provincia  Mes  Anio  Temperatura  Precipitacion    Humedad  \\\n",
       "0    BUENOS AIRES    1  2018    23.818903      78.826000  59.146452   \n",
       "1    BUENOS AIRES    1  2019    22.901084     131.553399  69.955962   \n",
       "2    BUENOS AIRES    1  2020    22.715584      79.471401  62.084416   \n",
       "3    BUENOS AIRES    2  2018    23.143357      49.372000  62.202143   \n",
       "4    BUENOS AIRES    2  2019    21.580357      60.700000  66.137143   \n",
       "..            ...  ...   ...          ...            ...        ...   \n",
       "733       USHUAIA    5  2019     4.674194      26.500000  73.217742   \n",
       "734       USHUAIA    5  2020     5.681301      25.000000  75.008130   \n",
       "735       USHUAIA    6  2018     2.753846      72.800000  74.648352   \n",
       "736       USHUAIA    6  2019     2.339496      38.900000  80.546218   \n",
       "737       USHUAIA    6  2020     2.635833      32.400000  77.150000   \n",
       "\n",
       "     Vel_vientos  cantidad_casos  \n",
       "0      14.287097               0  \n",
       "1      14.790099               0  \n",
       "2      15.177807             103  \n",
       "3      13.391429               9  \n",
       "4      12.844286               7  \n",
       "..           ...             ...  \n",
       "733    19.612903               0  \n",
       "734    17.276423               0  \n",
       "735    17.703297               0  \n",
       "736    14.134454               0  \n",
       "737    19.375000               0  \n",
       "\n",
       "[450 rows x 8 columns]"
      ]
     },
     "execution_count": 5,
     "metadata": {},
     "output_type": "execute_result"
    }
   ],
   "source": [
    "#Meses a analizar para predicción de datos\n",
    "cant_mes= 6\n",
    "cant_mes= cant_mes + 1\n",
    "x=range(cant_mes)\n",
    "list(x)\n",
    "cant_meses=list(range(cant_mes))\n",
    "dengue = dengue[dengue.Mes.isin(cant_meses)]\n",
    "dengue"
   ]
  },
  {
   "cell_type": "code",
   "execution_count": 6,
   "metadata": {
    "executionInfo": {
     "elapsed": 800,
     "status": "ok",
     "timestamp": 1605642655561,
     "user": {
      "displayName": "Lorenzo Fresca",
      "photoUrl": "",
      "userId": "12706337198170933235"
     },
     "user_tz": 180
    },
    "id": "JIMpRfvIfyWb"
   },
   "outputs": [],
   "source": [
    "#Creamos Dummies sobre las provincias\n",
    "dengue_dummies=pd.get_dummies(dengue[\"Provincia\"])\n"
   ]
  },
  {
   "cell_type": "code",
   "execution_count": 7,
   "metadata": {
    "executionInfo": {
     "elapsed": 839,
     "status": "ok",
     "timestamp": 1605642657895,
     "user": {
      "displayName": "Lorenzo Fresca",
      "photoUrl": "",
      "userId": "12706337198170933235"
     },
     "user_tz": 180
    },
    "id": "aKYt50CdfyWb"
   },
   "outputs": [],
   "source": [
    "#Unimos ambas tablas y eliminamos la columna Provincia\n",
    "dengue = pd.concat([dengue, dengue_dummies], axis=1)\n",
    "dengue=dengue.drop(columns=\"Provincia\")"
   ]
  },
  {
   "cell_type": "code",
   "execution_count": 8,
   "metadata": {
    "colab": {
     "base_uri": "https://localhost:8080/",
     "height": 473
    },
    "executionInfo": {
     "elapsed": 923,
     "status": "ok",
     "timestamp": 1605642660195,
     "user": {
      "displayName": "Lorenzo Fresca",
      "photoUrl": "",
      "userId": "12706337198170933235"
     },
     "user_tz": 180
    },
    "id": "Go76anDTfyWb",
    "outputId": "3fc11d7b-6dd8-4bd8-aa89-a672a0b0e42a"
   },
   "outputs": [
    {
     "data": {
      "text/html": [
       "<div>\n",
       "<style scoped>\n",
       "    .dataframe tbody tr th:only-of-type {\n",
       "        vertical-align: middle;\n",
       "    }\n",
       "\n",
       "    .dataframe tbody tr th {\n",
       "        vertical-align: top;\n",
       "    }\n",
       "\n",
       "    .dataframe thead th {\n",
       "        text-align: right;\n",
       "    }\n",
       "</style>\n",
       "<table border=\"1\" class=\"dataframe\">\n",
       "  <thead>\n",
       "    <tr style=\"text-align: right;\">\n",
       "      <th></th>\n",
       "      <th>Mes</th>\n",
       "      <th>Anio</th>\n",
       "      <th>Temperatura</th>\n",
       "      <th>Precipitacion</th>\n",
       "      <th>Humedad</th>\n",
       "      <th>Vel_vientos</th>\n",
       "      <th>BUENOS AIRES</th>\n",
       "      <th>CABA</th>\n",
       "      <th>CATAMARCA</th>\n",
       "      <th>CHACO</th>\n",
       "      <th>...</th>\n",
       "      <th>SALTA</th>\n",
       "      <th>SAN JUAN</th>\n",
       "      <th>SAN LUIS</th>\n",
       "      <th>SANTA CRUZ</th>\n",
       "      <th>SANTA FE</th>\n",
       "      <th>SANTIAGO DEL ESTERO</th>\n",
       "      <th>TIERRA DEL FUEGO</th>\n",
       "      <th>TUCUMÃN</th>\n",
       "      <th>USHUAIA</th>\n",
       "      <th>cantidad_casos</th>\n",
       "    </tr>\n",
       "  </thead>\n",
       "  <tbody>\n",
       "    <tr>\n",
       "      <th>0</th>\n",
       "      <td>1</td>\n",
       "      <td>2018</td>\n",
       "      <td>23.818903</td>\n",
       "      <td>78.826000</td>\n",
       "      <td>59.146452</td>\n",
       "      <td>14.287097</td>\n",
       "      <td>1</td>\n",
       "      <td>0</td>\n",
       "      <td>0</td>\n",
       "      <td>0</td>\n",
       "      <td>...</td>\n",
       "      <td>0</td>\n",
       "      <td>0</td>\n",
       "      <td>0</td>\n",
       "      <td>0</td>\n",
       "      <td>0</td>\n",
       "      <td>0</td>\n",
       "      <td>0</td>\n",
       "      <td>0</td>\n",
       "      <td>0</td>\n",
       "      <td>0</td>\n",
       "    </tr>\n",
       "    <tr>\n",
       "      <th>1</th>\n",
       "      <td>1</td>\n",
       "      <td>2019</td>\n",
       "      <td>22.901084</td>\n",
       "      <td>131.553399</td>\n",
       "      <td>69.955962</td>\n",
       "      <td>14.790099</td>\n",
       "      <td>1</td>\n",
       "      <td>0</td>\n",
       "      <td>0</td>\n",
       "      <td>0</td>\n",
       "      <td>...</td>\n",
       "      <td>0</td>\n",
       "      <td>0</td>\n",
       "      <td>0</td>\n",
       "      <td>0</td>\n",
       "      <td>0</td>\n",
       "      <td>0</td>\n",
       "      <td>0</td>\n",
       "      <td>0</td>\n",
       "      <td>0</td>\n",
       "      <td>0</td>\n",
       "    </tr>\n",
       "    <tr>\n",
       "      <th>2</th>\n",
       "      <td>1</td>\n",
       "      <td>2020</td>\n",
       "      <td>22.715584</td>\n",
       "      <td>79.471401</td>\n",
       "      <td>62.084416</td>\n",
       "      <td>15.177807</td>\n",
       "      <td>1</td>\n",
       "      <td>0</td>\n",
       "      <td>0</td>\n",
       "      <td>0</td>\n",
       "      <td>...</td>\n",
       "      <td>0</td>\n",
       "      <td>0</td>\n",
       "      <td>0</td>\n",
       "      <td>0</td>\n",
       "      <td>0</td>\n",
       "      <td>0</td>\n",
       "      <td>0</td>\n",
       "      <td>0</td>\n",
       "      <td>0</td>\n",
       "      <td>103</td>\n",
       "    </tr>\n",
       "    <tr>\n",
       "      <th>3</th>\n",
       "      <td>2</td>\n",
       "      <td>2018</td>\n",
       "      <td>23.143357</td>\n",
       "      <td>49.372000</td>\n",
       "      <td>62.202143</td>\n",
       "      <td>13.391429</td>\n",
       "      <td>1</td>\n",
       "      <td>0</td>\n",
       "      <td>0</td>\n",
       "      <td>0</td>\n",
       "      <td>...</td>\n",
       "      <td>0</td>\n",
       "      <td>0</td>\n",
       "      <td>0</td>\n",
       "      <td>0</td>\n",
       "      <td>0</td>\n",
       "      <td>0</td>\n",
       "      <td>0</td>\n",
       "      <td>0</td>\n",
       "      <td>0</td>\n",
       "      <td>9</td>\n",
       "    </tr>\n",
       "    <tr>\n",
       "      <th>4</th>\n",
       "      <td>2</td>\n",
       "      <td>2019</td>\n",
       "      <td>21.580357</td>\n",
       "      <td>60.700000</td>\n",
       "      <td>66.137143</td>\n",
       "      <td>12.844286</td>\n",
       "      <td>1</td>\n",
       "      <td>0</td>\n",
       "      <td>0</td>\n",
       "      <td>0</td>\n",
       "      <td>...</td>\n",
       "      <td>0</td>\n",
       "      <td>0</td>\n",
       "      <td>0</td>\n",
       "      <td>0</td>\n",
       "      <td>0</td>\n",
       "      <td>0</td>\n",
       "      <td>0</td>\n",
       "      <td>0</td>\n",
       "      <td>0</td>\n",
       "      <td>7</td>\n",
       "    </tr>\n",
       "    <tr>\n",
       "      <th>...</th>\n",
       "      <td>...</td>\n",
       "      <td>...</td>\n",
       "      <td>...</td>\n",
       "      <td>...</td>\n",
       "      <td>...</td>\n",
       "      <td>...</td>\n",
       "      <td>...</td>\n",
       "      <td>...</td>\n",
       "      <td>...</td>\n",
       "      <td>...</td>\n",
       "      <td>...</td>\n",
       "      <td>...</td>\n",
       "      <td>...</td>\n",
       "      <td>...</td>\n",
       "      <td>...</td>\n",
       "      <td>...</td>\n",
       "      <td>...</td>\n",
       "      <td>...</td>\n",
       "      <td>...</td>\n",
       "      <td>...</td>\n",
       "      <td>...</td>\n",
       "    </tr>\n",
       "    <tr>\n",
       "      <th>733</th>\n",
       "      <td>5</td>\n",
       "      <td>2019</td>\n",
       "      <td>4.674194</td>\n",
       "      <td>26.500000</td>\n",
       "      <td>73.217742</td>\n",
       "      <td>19.612903</td>\n",
       "      <td>0</td>\n",
       "      <td>0</td>\n",
       "      <td>0</td>\n",
       "      <td>0</td>\n",
       "      <td>...</td>\n",
       "      <td>0</td>\n",
       "      <td>0</td>\n",
       "      <td>0</td>\n",
       "      <td>0</td>\n",
       "      <td>0</td>\n",
       "      <td>0</td>\n",
       "      <td>0</td>\n",
       "      <td>0</td>\n",
       "      <td>1</td>\n",
       "      <td>0</td>\n",
       "    </tr>\n",
       "    <tr>\n",
       "      <th>734</th>\n",
       "      <td>5</td>\n",
       "      <td>2020</td>\n",
       "      <td>5.681301</td>\n",
       "      <td>25.000000</td>\n",
       "      <td>75.008130</td>\n",
       "      <td>17.276423</td>\n",
       "      <td>0</td>\n",
       "      <td>0</td>\n",
       "      <td>0</td>\n",
       "      <td>0</td>\n",
       "      <td>...</td>\n",
       "      <td>0</td>\n",
       "      <td>0</td>\n",
       "      <td>0</td>\n",
       "      <td>0</td>\n",
       "      <td>0</td>\n",
       "      <td>0</td>\n",
       "      <td>0</td>\n",
       "      <td>0</td>\n",
       "      <td>1</td>\n",
       "      <td>0</td>\n",
       "    </tr>\n",
       "    <tr>\n",
       "      <th>735</th>\n",
       "      <td>6</td>\n",
       "      <td>2018</td>\n",
       "      <td>2.753846</td>\n",
       "      <td>72.800000</td>\n",
       "      <td>74.648352</td>\n",
       "      <td>17.703297</td>\n",
       "      <td>0</td>\n",
       "      <td>0</td>\n",
       "      <td>0</td>\n",
       "      <td>0</td>\n",
       "      <td>...</td>\n",
       "      <td>0</td>\n",
       "      <td>0</td>\n",
       "      <td>0</td>\n",
       "      <td>0</td>\n",
       "      <td>0</td>\n",
       "      <td>0</td>\n",
       "      <td>0</td>\n",
       "      <td>0</td>\n",
       "      <td>1</td>\n",
       "      <td>0</td>\n",
       "    </tr>\n",
       "    <tr>\n",
       "      <th>736</th>\n",
       "      <td>6</td>\n",
       "      <td>2019</td>\n",
       "      <td>2.339496</td>\n",
       "      <td>38.900000</td>\n",
       "      <td>80.546218</td>\n",
       "      <td>14.134454</td>\n",
       "      <td>0</td>\n",
       "      <td>0</td>\n",
       "      <td>0</td>\n",
       "      <td>0</td>\n",
       "      <td>...</td>\n",
       "      <td>0</td>\n",
       "      <td>0</td>\n",
       "      <td>0</td>\n",
       "      <td>0</td>\n",
       "      <td>0</td>\n",
       "      <td>0</td>\n",
       "      <td>0</td>\n",
       "      <td>0</td>\n",
       "      <td>1</td>\n",
       "      <td>0</td>\n",
       "    </tr>\n",
       "    <tr>\n",
       "      <th>737</th>\n",
       "      <td>6</td>\n",
       "      <td>2020</td>\n",
       "      <td>2.635833</td>\n",
       "      <td>32.400000</td>\n",
       "      <td>77.150000</td>\n",
       "      <td>19.375000</td>\n",
       "      <td>0</td>\n",
       "      <td>0</td>\n",
       "      <td>0</td>\n",
       "      <td>0</td>\n",
       "      <td>...</td>\n",
       "      <td>0</td>\n",
       "      <td>0</td>\n",
       "      <td>0</td>\n",
       "      <td>0</td>\n",
       "      <td>0</td>\n",
       "      <td>0</td>\n",
       "      <td>0</td>\n",
       "      <td>0</td>\n",
       "      <td>1</td>\n",
       "      <td>0</td>\n",
       "    </tr>\n",
       "  </tbody>\n",
       "</table>\n",
       "<p>450 rows × 32 columns</p>\n",
       "</div>"
      ],
      "text/plain": [
       "     Mes  Anio  Temperatura  Precipitacion    Humedad  Vel_vientos  \\\n",
       "0      1  2018    23.818903      78.826000  59.146452    14.287097   \n",
       "1      1  2019    22.901084     131.553399  69.955962    14.790099   \n",
       "2      1  2020    22.715584      79.471401  62.084416    15.177807   \n",
       "3      2  2018    23.143357      49.372000  62.202143    13.391429   \n",
       "4      2  2019    21.580357      60.700000  66.137143    12.844286   \n",
       "..   ...   ...          ...            ...        ...          ...   \n",
       "733    5  2019     4.674194      26.500000  73.217742    19.612903   \n",
       "734    5  2020     5.681301      25.000000  75.008130    17.276423   \n",
       "735    6  2018     2.753846      72.800000  74.648352    17.703297   \n",
       "736    6  2019     2.339496      38.900000  80.546218    14.134454   \n",
       "737    6  2020     2.635833      32.400000  77.150000    19.375000   \n",
       "\n",
       "     BUENOS AIRES  CABA  CATAMARCA  CHACO  ...  SALTA  SAN JUAN  SAN LUIS  \\\n",
       "0               1     0          0      0  ...      0         0         0   \n",
       "1               1     0          0      0  ...      0         0         0   \n",
       "2               1     0          0      0  ...      0         0         0   \n",
       "3               1     0          0      0  ...      0         0         0   \n",
       "4               1     0          0      0  ...      0         0         0   \n",
       "..            ...   ...        ...    ...  ...    ...       ...       ...   \n",
       "733             0     0          0      0  ...      0         0         0   \n",
       "734             0     0          0      0  ...      0         0         0   \n",
       "735             0     0          0      0  ...      0         0         0   \n",
       "736             0     0          0      0  ...      0         0         0   \n",
       "737             0     0          0      0  ...      0         0         0   \n",
       "\n",
       "     SANTA CRUZ  SANTA FE  SANTIAGO DEL ESTERO  TIERRA DEL FUEGO  TUCUMÃN  \\\n",
       "0             0         0                    0                 0         0   \n",
       "1             0         0                    0                 0         0   \n",
       "2             0         0                    0                 0         0   \n",
       "3             0         0                    0                 0         0   \n",
       "4             0         0                    0                 0         0   \n",
       "..          ...       ...                  ...               ...       ...   \n",
       "733           0         0                    0                 0         0   \n",
       "734           0         0                    0                 0         0   \n",
       "735           0         0                    0                 0         0   \n",
       "736           0         0                    0                 0         0   \n",
       "737           0         0                    0                 0         0   \n",
       "\n",
       "     USHUAIA  cantidad_casos  \n",
       "0          0               0  \n",
       "1          0               0  \n",
       "2          0             103  \n",
       "3          0               9  \n",
       "4          0               7  \n",
       "..       ...             ...  \n",
       "733        1               0  \n",
       "734        1               0  \n",
       "735        1               0  \n",
       "736        1               0  \n",
       "737        1               0  \n",
       "\n",
       "[450 rows x 32 columns]"
      ]
     },
     "execution_count": 8,
     "metadata": {},
     "output_type": "execute_result"
    }
   ],
   "source": [
    "#Acomodamos la columna target -cantidad de casos- como última columna del dataset\n",
    "dengue_target=dengue.loc[:,\"cantidad_casos\"]\n",
    "dengue=dengue.drop(columns=\"cantidad_casos\")\n",
    "dengue = pd.concat([dengue, dengue_target], axis=1)\n",
    "dengue"
   ]
  },
  {
   "cell_type": "code",
   "execution_count": 9,
   "metadata": {
    "colab": {
     "base_uri": "https://localhost:8080/",
     "height": 473
    },
    "executionInfo": {
     "elapsed": 736,
     "status": "ok",
     "timestamp": 1605642663650,
     "user": {
      "displayName": "Lorenzo Fresca",
      "photoUrl": "",
      "userId": "12706337198170933235"
     },
     "user_tz": 180
    },
    "id": "if8EMgHBfyWb",
    "outputId": "7aad575b-4e60-46a4-fd03-ae279f69e9d0"
   },
   "outputs": [
    {
     "data": {
      "text/html": [
       "<div>\n",
       "<style scoped>\n",
       "    .dataframe tbody tr th:only-of-type {\n",
       "        vertical-align: middle;\n",
       "    }\n",
       "\n",
       "    .dataframe tbody tr th {\n",
       "        vertical-align: top;\n",
       "    }\n",
       "\n",
       "    .dataframe thead th {\n",
       "        text-align: right;\n",
       "    }\n",
       "</style>\n",
       "<table border=\"1\" class=\"dataframe\">\n",
       "  <thead>\n",
       "    <tr style=\"text-align: right;\">\n",
       "      <th></th>\n",
       "      <th>Mes</th>\n",
       "      <th>Anio</th>\n",
       "      <th>Temperatura</th>\n",
       "      <th>Precipitacion</th>\n",
       "      <th>Humedad</th>\n",
       "      <th>Vel_vientos</th>\n",
       "      <th>BUENOS AIRES</th>\n",
       "      <th>CABA</th>\n",
       "      <th>CATAMARCA</th>\n",
       "      <th>CHACO</th>\n",
       "      <th>...</th>\n",
       "      <th>SALTA</th>\n",
       "      <th>SAN JUAN</th>\n",
       "      <th>SAN LUIS</th>\n",
       "      <th>SANTA CRUZ</th>\n",
       "      <th>SANTA FE</th>\n",
       "      <th>SANTIAGO DEL ESTERO</th>\n",
       "      <th>TIERRA DEL FUEGO</th>\n",
       "      <th>TUCUMÃN</th>\n",
       "      <th>USHUAIA</th>\n",
       "      <th>cantidad_casos</th>\n",
       "    </tr>\n",
       "  </thead>\n",
       "  <tbody>\n",
       "    <tr>\n",
       "      <th>0</th>\n",
       "      <td>1</td>\n",
       "      <td>2018</td>\n",
       "      <td>23.818903</td>\n",
       "      <td>78.826000</td>\n",
       "      <td>59.146452</td>\n",
       "      <td>14.287097</td>\n",
       "      <td>1</td>\n",
       "      <td>0</td>\n",
       "      <td>0</td>\n",
       "      <td>0</td>\n",
       "      <td>...</td>\n",
       "      <td>0</td>\n",
       "      <td>0</td>\n",
       "      <td>0</td>\n",
       "      <td>0</td>\n",
       "      <td>0</td>\n",
       "      <td>0</td>\n",
       "      <td>0</td>\n",
       "      <td>0</td>\n",
       "      <td>0</td>\n",
       "      <td>0</td>\n",
       "    </tr>\n",
       "    <tr>\n",
       "      <th>1</th>\n",
       "      <td>1</td>\n",
       "      <td>2019</td>\n",
       "      <td>22.901084</td>\n",
       "      <td>131.553399</td>\n",
       "      <td>69.955962</td>\n",
       "      <td>14.790099</td>\n",
       "      <td>1</td>\n",
       "      <td>0</td>\n",
       "      <td>0</td>\n",
       "      <td>0</td>\n",
       "      <td>...</td>\n",
       "      <td>0</td>\n",
       "      <td>0</td>\n",
       "      <td>0</td>\n",
       "      <td>0</td>\n",
       "      <td>0</td>\n",
       "      <td>0</td>\n",
       "      <td>0</td>\n",
       "      <td>0</td>\n",
       "      <td>0</td>\n",
       "      <td>0</td>\n",
       "    </tr>\n",
       "    <tr>\n",
       "      <th>2</th>\n",
       "      <td>1</td>\n",
       "      <td>2020</td>\n",
       "      <td>22.715584</td>\n",
       "      <td>79.471401</td>\n",
       "      <td>62.084416</td>\n",
       "      <td>15.177807</td>\n",
       "      <td>1</td>\n",
       "      <td>0</td>\n",
       "      <td>0</td>\n",
       "      <td>0</td>\n",
       "      <td>...</td>\n",
       "      <td>0</td>\n",
       "      <td>0</td>\n",
       "      <td>0</td>\n",
       "      <td>0</td>\n",
       "      <td>0</td>\n",
       "      <td>0</td>\n",
       "      <td>0</td>\n",
       "      <td>0</td>\n",
       "      <td>0</td>\n",
       "      <td>103</td>\n",
       "    </tr>\n",
       "    <tr>\n",
       "      <th>3</th>\n",
       "      <td>2</td>\n",
       "      <td>2018</td>\n",
       "      <td>23.143357</td>\n",
       "      <td>49.372000</td>\n",
       "      <td>62.202143</td>\n",
       "      <td>13.391429</td>\n",
       "      <td>1</td>\n",
       "      <td>0</td>\n",
       "      <td>0</td>\n",
       "      <td>0</td>\n",
       "      <td>...</td>\n",
       "      <td>0</td>\n",
       "      <td>0</td>\n",
       "      <td>0</td>\n",
       "      <td>0</td>\n",
       "      <td>0</td>\n",
       "      <td>0</td>\n",
       "      <td>0</td>\n",
       "      <td>0</td>\n",
       "      <td>0</td>\n",
       "      <td>9</td>\n",
       "    </tr>\n",
       "    <tr>\n",
       "      <th>4</th>\n",
       "      <td>2</td>\n",
       "      <td>2019</td>\n",
       "      <td>21.580357</td>\n",
       "      <td>60.700000</td>\n",
       "      <td>66.137143</td>\n",
       "      <td>12.844286</td>\n",
       "      <td>1</td>\n",
       "      <td>0</td>\n",
       "      <td>0</td>\n",
       "      <td>0</td>\n",
       "      <td>...</td>\n",
       "      <td>0</td>\n",
       "      <td>0</td>\n",
       "      <td>0</td>\n",
       "      <td>0</td>\n",
       "      <td>0</td>\n",
       "      <td>0</td>\n",
       "      <td>0</td>\n",
       "      <td>0</td>\n",
       "      <td>0</td>\n",
       "      <td>7</td>\n",
       "    </tr>\n",
       "    <tr>\n",
       "      <th>...</th>\n",
       "      <td>...</td>\n",
       "      <td>...</td>\n",
       "      <td>...</td>\n",
       "      <td>...</td>\n",
       "      <td>...</td>\n",
       "      <td>...</td>\n",
       "      <td>...</td>\n",
       "      <td>...</td>\n",
       "      <td>...</td>\n",
       "      <td>...</td>\n",
       "      <td>...</td>\n",
       "      <td>...</td>\n",
       "      <td>...</td>\n",
       "      <td>...</td>\n",
       "      <td>...</td>\n",
       "      <td>...</td>\n",
       "      <td>...</td>\n",
       "      <td>...</td>\n",
       "      <td>...</td>\n",
       "      <td>...</td>\n",
       "      <td>...</td>\n",
       "    </tr>\n",
       "    <tr>\n",
       "      <th>733</th>\n",
       "      <td>5</td>\n",
       "      <td>2019</td>\n",
       "      <td>4.674194</td>\n",
       "      <td>26.500000</td>\n",
       "      <td>73.217742</td>\n",
       "      <td>19.612903</td>\n",
       "      <td>0</td>\n",
       "      <td>0</td>\n",
       "      <td>0</td>\n",
       "      <td>0</td>\n",
       "      <td>...</td>\n",
       "      <td>0</td>\n",
       "      <td>0</td>\n",
       "      <td>0</td>\n",
       "      <td>0</td>\n",
       "      <td>0</td>\n",
       "      <td>0</td>\n",
       "      <td>0</td>\n",
       "      <td>0</td>\n",
       "      <td>1</td>\n",
       "      <td>0</td>\n",
       "    </tr>\n",
       "    <tr>\n",
       "      <th>734</th>\n",
       "      <td>5</td>\n",
       "      <td>2020</td>\n",
       "      <td>5.681301</td>\n",
       "      <td>25.000000</td>\n",
       "      <td>75.008130</td>\n",
       "      <td>17.276423</td>\n",
       "      <td>0</td>\n",
       "      <td>0</td>\n",
       "      <td>0</td>\n",
       "      <td>0</td>\n",
       "      <td>...</td>\n",
       "      <td>0</td>\n",
       "      <td>0</td>\n",
       "      <td>0</td>\n",
       "      <td>0</td>\n",
       "      <td>0</td>\n",
       "      <td>0</td>\n",
       "      <td>0</td>\n",
       "      <td>0</td>\n",
       "      <td>1</td>\n",
       "      <td>0</td>\n",
       "    </tr>\n",
       "    <tr>\n",
       "      <th>735</th>\n",
       "      <td>6</td>\n",
       "      <td>2018</td>\n",
       "      <td>2.753846</td>\n",
       "      <td>72.800000</td>\n",
       "      <td>74.648352</td>\n",
       "      <td>17.703297</td>\n",
       "      <td>0</td>\n",
       "      <td>0</td>\n",
       "      <td>0</td>\n",
       "      <td>0</td>\n",
       "      <td>...</td>\n",
       "      <td>0</td>\n",
       "      <td>0</td>\n",
       "      <td>0</td>\n",
       "      <td>0</td>\n",
       "      <td>0</td>\n",
       "      <td>0</td>\n",
       "      <td>0</td>\n",
       "      <td>0</td>\n",
       "      <td>1</td>\n",
       "      <td>0</td>\n",
       "    </tr>\n",
       "    <tr>\n",
       "      <th>736</th>\n",
       "      <td>6</td>\n",
       "      <td>2019</td>\n",
       "      <td>2.339496</td>\n",
       "      <td>38.900000</td>\n",
       "      <td>80.546218</td>\n",
       "      <td>14.134454</td>\n",
       "      <td>0</td>\n",
       "      <td>0</td>\n",
       "      <td>0</td>\n",
       "      <td>0</td>\n",
       "      <td>...</td>\n",
       "      <td>0</td>\n",
       "      <td>0</td>\n",
       "      <td>0</td>\n",
       "      <td>0</td>\n",
       "      <td>0</td>\n",
       "      <td>0</td>\n",
       "      <td>0</td>\n",
       "      <td>0</td>\n",
       "      <td>1</td>\n",
       "      <td>0</td>\n",
       "    </tr>\n",
       "    <tr>\n",
       "      <th>737</th>\n",
       "      <td>6</td>\n",
       "      <td>2020</td>\n",
       "      <td>2.635833</td>\n",
       "      <td>32.400000</td>\n",
       "      <td>77.150000</td>\n",
       "      <td>19.375000</td>\n",
       "      <td>0</td>\n",
       "      <td>0</td>\n",
       "      <td>0</td>\n",
       "      <td>0</td>\n",
       "      <td>...</td>\n",
       "      <td>0</td>\n",
       "      <td>0</td>\n",
       "      <td>0</td>\n",
       "      <td>0</td>\n",
       "      <td>0</td>\n",
       "      <td>0</td>\n",
       "      <td>0</td>\n",
       "      <td>0</td>\n",
       "      <td>1</td>\n",
       "      <td>0</td>\n",
       "    </tr>\n",
       "  </tbody>\n",
       "</table>\n",
       "<p>450 rows × 32 columns</p>\n",
       "</div>"
      ],
      "text/plain": [
       "     Mes  Anio  Temperatura  Precipitacion    Humedad  Vel_vientos  \\\n",
       "0      1  2018    23.818903      78.826000  59.146452    14.287097   \n",
       "1      1  2019    22.901084     131.553399  69.955962    14.790099   \n",
       "2      1  2020    22.715584      79.471401  62.084416    15.177807   \n",
       "3      2  2018    23.143357      49.372000  62.202143    13.391429   \n",
       "4      2  2019    21.580357      60.700000  66.137143    12.844286   \n",
       "..   ...   ...          ...            ...        ...          ...   \n",
       "733    5  2019     4.674194      26.500000  73.217742    19.612903   \n",
       "734    5  2020     5.681301      25.000000  75.008130    17.276423   \n",
       "735    6  2018     2.753846      72.800000  74.648352    17.703297   \n",
       "736    6  2019     2.339496      38.900000  80.546218    14.134454   \n",
       "737    6  2020     2.635833      32.400000  77.150000    19.375000   \n",
       "\n",
       "     BUENOS AIRES  CABA  CATAMARCA  CHACO  ...  SALTA  SAN JUAN  SAN LUIS  \\\n",
       "0               1     0          0      0  ...      0         0         0   \n",
       "1               1     0          0      0  ...      0         0         0   \n",
       "2               1     0          0      0  ...      0         0         0   \n",
       "3               1     0          0      0  ...      0         0         0   \n",
       "4               1     0          0      0  ...      0         0         0   \n",
       "..            ...   ...        ...    ...  ...    ...       ...       ...   \n",
       "733             0     0          0      0  ...      0         0         0   \n",
       "734             0     0          0      0  ...      0         0         0   \n",
       "735             0     0          0      0  ...      0         0         0   \n",
       "736             0     0          0      0  ...      0         0         0   \n",
       "737             0     0          0      0  ...      0         0         0   \n",
       "\n",
       "     SANTA CRUZ  SANTA FE  SANTIAGO DEL ESTERO  TIERRA DEL FUEGO  TUCUMÃN  \\\n",
       "0             0         0                    0                 0         0   \n",
       "1             0         0                    0                 0         0   \n",
       "2             0         0                    0                 0         0   \n",
       "3             0         0                    0                 0         0   \n",
       "4             0         0                    0                 0         0   \n",
       "..          ...       ...                  ...               ...       ...   \n",
       "733           0         0                    0                 0         0   \n",
       "734           0         0                    0                 0         0   \n",
       "735           0         0                    0                 0         0   \n",
       "736           0         0                    0                 0         0   \n",
       "737           0         0                    0                 0         0   \n",
       "\n",
       "     USHUAIA  cantidad_casos  \n",
       "0          0               0  \n",
       "1          0               0  \n",
       "2          0             103  \n",
       "3          0               9  \n",
       "4          0               7  \n",
       "..       ...             ...  \n",
       "733        1               0  \n",
       "734        1               0  \n",
       "735        1               0  \n",
       "736        1               0  \n",
       "737        1               0  \n",
       "\n",
       "[450 rows x 32 columns]"
      ]
     },
     "execution_count": 9,
     "metadata": {},
     "output_type": "execute_result"
    }
   ],
   "source": [
    "#Guardamos las variables donde esté el target y la dimensión de las features\n",
    "rows_features= np.shape(dengue)[1] - 1\n",
    "rows_target=np.shape(dengue)[1]\n",
    "dengue"
   ]
  },
  {
   "cell_type": "code",
   "execution_count": 10,
   "metadata": {
    "executionInfo": {
     "elapsed": 1282,
     "status": "ok",
     "timestamp": 1605642667603,
     "user": {
      "displayName": "Lorenzo Fresca",
      "photoUrl": "",
      "userId": "12706337198170933235"
     },
     "user_tz": 180
    },
    "id": "fnrcBG4RfyWb"
   },
   "outputs": [],
   "source": [
    "#Dividimos las features en X y el target en Y\n",
    "#Features\n",
    "X= dengue.iloc[:,0:rows_features]  \n",
    "#Target\n",
    "Y= dengue.iloc[:,rows_target-1]"
   ]
  },
  {
   "cell_type": "code",
   "execution_count": 11,
   "metadata": {
    "colab": {
     "base_uri": "https://localhost:8080/",
     "height": 473
    },
    "executionInfo": {
     "elapsed": 751,
     "status": "ok",
     "timestamp": 1605642668544,
     "user": {
      "displayName": "Lorenzo Fresca",
      "photoUrl": "",
      "userId": "12706337198170933235"
     },
     "user_tz": 180
    },
    "id": "g8i0XZk_fyWc",
    "outputId": "3b37c3f9-de9c-422c-e211-5b724688c8e5",
    "scrolled": true
   },
   "outputs": [
    {
     "data": {
      "text/html": [
       "<div>\n",
       "<style scoped>\n",
       "    .dataframe tbody tr th:only-of-type {\n",
       "        vertical-align: middle;\n",
       "    }\n",
       "\n",
       "    .dataframe tbody tr th {\n",
       "        vertical-align: top;\n",
       "    }\n",
       "\n",
       "    .dataframe thead th {\n",
       "        text-align: right;\n",
       "    }\n",
       "</style>\n",
       "<table border=\"1\" class=\"dataframe\">\n",
       "  <thead>\n",
       "    <tr style=\"text-align: right;\">\n",
       "      <th></th>\n",
       "      <th>Mes</th>\n",
       "      <th>Anio</th>\n",
       "      <th>Temperatura</th>\n",
       "      <th>Precipitacion</th>\n",
       "      <th>Humedad</th>\n",
       "      <th>Vel_vientos</th>\n",
       "      <th>BUENOS AIRES</th>\n",
       "      <th>CABA</th>\n",
       "      <th>CATAMARCA</th>\n",
       "      <th>CHACO</th>\n",
       "      <th>...</th>\n",
       "      <th>RÃO NEGRO</th>\n",
       "      <th>SALTA</th>\n",
       "      <th>SAN JUAN</th>\n",
       "      <th>SAN LUIS</th>\n",
       "      <th>SANTA CRUZ</th>\n",
       "      <th>SANTA FE</th>\n",
       "      <th>SANTIAGO DEL ESTERO</th>\n",
       "      <th>TIERRA DEL FUEGO</th>\n",
       "      <th>TUCUMÃN</th>\n",
       "      <th>USHUAIA</th>\n",
       "    </tr>\n",
       "  </thead>\n",
       "  <tbody>\n",
       "    <tr>\n",
       "      <th>0</th>\n",
       "      <td>1</td>\n",
       "      <td>2018</td>\n",
       "      <td>23.818903</td>\n",
       "      <td>78.826000</td>\n",
       "      <td>59.146452</td>\n",
       "      <td>14.287097</td>\n",
       "      <td>1</td>\n",
       "      <td>0</td>\n",
       "      <td>0</td>\n",
       "      <td>0</td>\n",
       "      <td>...</td>\n",
       "      <td>0</td>\n",
       "      <td>0</td>\n",
       "      <td>0</td>\n",
       "      <td>0</td>\n",
       "      <td>0</td>\n",
       "      <td>0</td>\n",
       "      <td>0</td>\n",
       "      <td>0</td>\n",
       "      <td>0</td>\n",
       "      <td>0</td>\n",
       "    </tr>\n",
       "    <tr>\n",
       "      <th>1</th>\n",
       "      <td>1</td>\n",
       "      <td>2019</td>\n",
       "      <td>22.901084</td>\n",
       "      <td>131.553399</td>\n",
       "      <td>69.955962</td>\n",
       "      <td>14.790099</td>\n",
       "      <td>1</td>\n",
       "      <td>0</td>\n",
       "      <td>0</td>\n",
       "      <td>0</td>\n",
       "      <td>...</td>\n",
       "      <td>0</td>\n",
       "      <td>0</td>\n",
       "      <td>0</td>\n",
       "      <td>0</td>\n",
       "      <td>0</td>\n",
       "      <td>0</td>\n",
       "      <td>0</td>\n",
       "      <td>0</td>\n",
       "      <td>0</td>\n",
       "      <td>0</td>\n",
       "    </tr>\n",
       "    <tr>\n",
       "      <th>2</th>\n",
       "      <td>1</td>\n",
       "      <td>2020</td>\n",
       "      <td>22.715584</td>\n",
       "      <td>79.471401</td>\n",
       "      <td>62.084416</td>\n",
       "      <td>15.177807</td>\n",
       "      <td>1</td>\n",
       "      <td>0</td>\n",
       "      <td>0</td>\n",
       "      <td>0</td>\n",
       "      <td>...</td>\n",
       "      <td>0</td>\n",
       "      <td>0</td>\n",
       "      <td>0</td>\n",
       "      <td>0</td>\n",
       "      <td>0</td>\n",
       "      <td>0</td>\n",
       "      <td>0</td>\n",
       "      <td>0</td>\n",
       "      <td>0</td>\n",
       "      <td>0</td>\n",
       "    </tr>\n",
       "    <tr>\n",
       "      <th>3</th>\n",
       "      <td>2</td>\n",
       "      <td>2018</td>\n",
       "      <td>23.143357</td>\n",
       "      <td>49.372000</td>\n",
       "      <td>62.202143</td>\n",
       "      <td>13.391429</td>\n",
       "      <td>1</td>\n",
       "      <td>0</td>\n",
       "      <td>0</td>\n",
       "      <td>0</td>\n",
       "      <td>...</td>\n",
       "      <td>0</td>\n",
       "      <td>0</td>\n",
       "      <td>0</td>\n",
       "      <td>0</td>\n",
       "      <td>0</td>\n",
       "      <td>0</td>\n",
       "      <td>0</td>\n",
       "      <td>0</td>\n",
       "      <td>0</td>\n",
       "      <td>0</td>\n",
       "    </tr>\n",
       "    <tr>\n",
       "      <th>4</th>\n",
       "      <td>2</td>\n",
       "      <td>2019</td>\n",
       "      <td>21.580357</td>\n",
       "      <td>60.700000</td>\n",
       "      <td>66.137143</td>\n",
       "      <td>12.844286</td>\n",
       "      <td>1</td>\n",
       "      <td>0</td>\n",
       "      <td>0</td>\n",
       "      <td>0</td>\n",
       "      <td>...</td>\n",
       "      <td>0</td>\n",
       "      <td>0</td>\n",
       "      <td>0</td>\n",
       "      <td>0</td>\n",
       "      <td>0</td>\n",
       "      <td>0</td>\n",
       "      <td>0</td>\n",
       "      <td>0</td>\n",
       "      <td>0</td>\n",
       "      <td>0</td>\n",
       "    </tr>\n",
       "    <tr>\n",
       "      <th>...</th>\n",
       "      <td>...</td>\n",
       "      <td>...</td>\n",
       "      <td>...</td>\n",
       "      <td>...</td>\n",
       "      <td>...</td>\n",
       "      <td>...</td>\n",
       "      <td>...</td>\n",
       "      <td>...</td>\n",
       "      <td>...</td>\n",
       "      <td>...</td>\n",
       "      <td>...</td>\n",
       "      <td>...</td>\n",
       "      <td>...</td>\n",
       "      <td>...</td>\n",
       "      <td>...</td>\n",
       "      <td>...</td>\n",
       "      <td>...</td>\n",
       "      <td>...</td>\n",
       "      <td>...</td>\n",
       "      <td>...</td>\n",
       "      <td>...</td>\n",
       "    </tr>\n",
       "    <tr>\n",
       "      <th>733</th>\n",
       "      <td>5</td>\n",
       "      <td>2019</td>\n",
       "      <td>4.674194</td>\n",
       "      <td>26.500000</td>\n",
       "      <td>73.217742</td>\n",
       "      <td>19.612903</td>\n",
       "      <td>0</td>\n",
       "      <td>0</td>\n",
       "      <td>0</td>\n",
       "      <td>0</td>\n",
       "      <td>...</td>\n",
       "      <td>0</td>\n",
       "      <td>0</td>\n",
       "      <td>0</td>\n",
       "      <td>0</td>\n",
       "      <td>0</td>\n",
       "      <td>0</td>\n",
       "      <td>0</td>\n",
       "      <td>0</td>\n",
       "      <td>0</td>\n",
       "      <td>1</td>\n",
       "    </tr>\n",
       "    <tr>\n",
       "      <th>734</th>\n",
       "      <td>5</td>\n",
       "      <td>2020</td>\n",
       "      <td>5.681301</td>\n",
       "      <td>25.000000</td>\n",
       "      <td>75.008130</td>\n",
       "      <td>17.276423</td>\n",
       "      <td>0</td>\n",
       "      <td>0</td>\n",
       "      <td>0</td>\n",
       "      <td>0</td>\n",
       "      <td>...</td>\n",
       "      <td>0</td>\n",
       "      <td>0</td>\n",
       "      <td>0</td>\n",
       "      <td>0</td>\n",
       "      <td>0</td>\n",
       "      <td>0</td>\n",
       "      <td>0</td>\n",
       "      <td>0</td>\n",
       "      <td>0</td>\n",
       "      <td>1</td>\n",
       "    </tr>\n",
       "    <tr>\n",
       "      <th>735</th>\n",
       "      <td>6</td>\n",
       "      <td>2018</td>\n",
       "      <td>2.753846</td>\n",
       "      <td>72.800000</td>\n",
       "      <td>74.648352</td>\n",
       "      <td>17.703297</td>\n",
       "      <td>0</td>\n",
       "      <td>0</td>\n",
       "      <td>0</td>\n",
       "      <td>0</td>\n",
       "      <td>...</td>\n",
       "      <td>0</td>\n",
       "      <td>0</td>\n",
       "      <td>0</td>\n",
       "      <td>0</td>\n",
       "      <td>0</td>\n",
       "      <td>0</td>\n",
       "      <td>0</td>\n",
       "      <td>0</td>\n",
       "      <td>0</td>\n",
       "      <td>1</td>\n",
       "    </tr>\n",
       "    <tr>\n",
       "      <th>736</th>\n",
       "      <td>6</td>\n",
       "      <td>2019</td>\n",
       "      <td>2.339496</td>\n",
       "      <td>38.900000</td>\n",
       "      <td>80.546218</td>\n",
       "      <td>14.134454</td>\n",
       "      <td>0</td>\n",
       "      <td>0</td>\n",
       "      <td>0</td>\n",
       "      <td>0</td>\n",
       "      <td>...</td>\n",
       "      <td>0</td>\n",
       "      <td>0</td>\n",
       "      <td>0</td>\n",
       "      <td>0</td>\n",
       "      <td>0</td>\n",
       "      <td>0</td>\n",
       "      <td>0</td>\n",
       "      <td>0</td>\n",
       "      <td>0</td>\n",
       "      <td>1</td>\n",
       "    </tr>\n",
       "    <tr>\n",
       "      <th>737</th>\n",
       "      <td>6</td>\n",
       "      <td>2020</td>\n",
       "      <td>2.635833</td>\n",
       "      <td>32.400000</td>\n",
       "      <td>77.150000</td>\n",
       "      <td>19.375000</td>\n",
       "      <td>0</td>\n",
       "      <td>0</td>\n",
       "      <td>0</td>\n",
       "      <td>0</td>\n",
       "      <td>...</td>\n",
       "      <td>0</td>\n",
       "      <td>0</td>\n",
       "      <td>0</td>\n",
       "      <td>0</td>\n",
       "      <td>0</td>\n",
       "      <td>0</td>\n",
       "      <td>0</td>\n",
       "      <td>0</td>\n",
       "      <td>0</td>\n",
       "      <td>1</td>\n",
       "    </tr>\n",
       "  </tbody>\n",
       "</table>\n",
       "<p>450 rows × 31 columns</p>\n",
       "</div>"
      ],
      "text/plain": [
       "     Mes  Anio  Temperatura  Precipitacion    Humedad  Vel_vientos  \\\n",
       "0      1  2018    23.818903      78.826000  59.146452    14.287097   \n",
       "1      1  2019    22.901084     131.553399  69.955962    14.790099   \n",
       "2      1  2020    22.715584      79.471401  62.084416    15.177807   \n",
       "3      2  2018    23.143357      49.372000  62.202143    13.391429   \n",
       "4      2  2019    21.580357      60.700000  66.137143    12.844286   \n",
       "..   ...   ...          ...            ...        ...          ...   \n",
       "733    5  2019     4.674194      26.500000  73.217742    19.612903   \n",
       "734    5  2020     5.681301      25.000000  75.008130    17.276423   \n",
       "735    6  2018     2.753846      72.800000  74.648352    17.703297   \n",
       "736    6  2019     2.339496      38.900000  80.546218    14.134454   \n",
       "737    6  2020     2.635833      32.400000  77.150000    19.375000   \n",
       "\n",
       "     BUENOS AIRES  CABA  CATAMARCA  CHACO  ...  RÃO NEGRO  SALTA  SAN JUAN  \\\n",
       "0               1     0          0      0  ...           0      0         0   \n",
       "1               1     0          0      0  ...           0      0         0   \n",
       "2               1     0          0      0  ...           0      0         0   \n",
       "3               1     0          0      0  ...           0      0         0   \n",
       "4               1     0          0      0  ...           0      0         0   \n",
       "..            ...   ...        ...    ...  ...         ...    ...       ...   \n",
       "733             0     0          0      0  ...           0      0         0   \n",
       "734             0     0          0      0  ...           0      0         0   \n",
       "735             0     0          0      0  ...           0      0         0   \n",
       "736             0     0          0      0  ...           0      0         0   \n",
       "737             0     0          0      0  ...           0      0         0   \n",
       "\n",
       "     SAN LUIS  SANTA CRUZ  SANTA FE  SANTIAGO DEL ESTERO  TIERRA DEL FUEGO  \\\n",
       "0           0           0         0                    0                 0   \n",
       "1           0           0         0                    0                 0   \n",
       "2           0           0         0                    0                 0   \n",
       "3           0           0         0                    0                 0   \n",
       "4           0           0         0                    0                 0   \n",
       "..        ...         ...       ...                  ...               ...   \n",
       "733         0           0         0                    0                 0   \n",
       "734         0           0         0                    0                 0   \n",
       "735         0           0         0                    0                 0   \n",
       "736         0           0         0                    0                 0   \n",
       "737         0           0         0                    0                 0   \n",
       "\n",
       "     TUCUMÃN  USHUAIA  \n",
       "0           0        0  \n",
       "1           0        0  \n",
       "2           0        0  \n",
       "3           0        0  \n",
       "4           0        0  \n",
       "..        ...      ...  \n",
       "733         0        1  \n",
       "734         0        1  \n",
       "735         0        1  \n",
       "736         0        1  \n",
       "737         0        1  \n",
       "\n",
       "[450 rows x 31 columns]"
      ]
     },
     "execution_count": 11,
     "metadata": {},
     "output_type": "execute_result"
    }
   ],
   "source": [
    "X"
   ]
  },
  {
   "cell_type": "code",
   "execution_count": 12,
   "metadata": {
    "colab": {
     "base_uri": "https://localhost:8080/"
    },
    "executionInfo": {
     "elapsed": 723,
     "status": "ok",
     "timestamp": 1605642673070,
     "user": {
      "displayName": "Lorenzo Fresca",
      "photoUrl": "",
      "userId": "12706337198170933235"
     },
     "user_tz": 180
    },
    "id": "is9RgKVlfyWc",
    "outputId": "47d993fb-4101-42f9-b3e7-5fcd7e2a4d7f"
   },
   "outputs": [
    {
     "name": "stdout",
     "output_type": "stream",
     "text": [
      "(270, 31)\n",
      "(270,)\n"
     ]
    }
   ],
   "source": [
    "# Separamos train y test\n",
    "from sklearn.model_selection import train_test_split\n",
    "x_train, x_test, y_train, y_test = train_test_split(X, Y, test_size=0.4, random_state=4)\n",
    "print(x_train.shape)\n",
    "print(y_train.shape)\n"
   ]
  },
  {
   "cell_type": "code",
   "execution_count": 13,
   "metadata": {
    "colab": {
     "base_uri": "https://localhost:8080/",
     "height": 473
    },
    "executionInfo": {
     "elapsed": 1218,
     "status": "ok",
     "timestamp": 1605642676230,
     "user": {
      "displayName": "Lorenzo Fresca",
      "photoUrl": "",
      "userId": "12706337198170933235"
     },
     "user_tz": 180
    },
    "id": "8id5n7FQfyWc",
    "outputId": "d68b5c66-3c51-4dab-b95d-ab21ea2d6d80"
   },
   "outputs": [
    {
     "data": {
      "text/html": [
       "<div>\n",
       "<style scoped>\n",
       "    .dataframe tbody tr th:only-of-type {\n",
       "        vertical-align: middle;\n",
       "    }\n",
       "\n",
       "    .dataframe tbody tr th {\n",
       "        vertical-align: top;\n",
       "    }\n",
       "\n",
       "    .dataframe thead th {\n",
       "        text-align: right;\n",
       "    }\n",
       "</style>\n",
       "<table border=\"1\" class=\"dataframe\">\n",
       "  <thead>\n",
       "    <tr style=\"text-align: right;\">\n",
       "      <th></th>\n",
       "      <th>Mes</th>\n",
       "      <th>Anio</th>\n",
       "      <th>Temperatura</th>\n",
       "      <th>Precipitacion</th>\n",
       "      <th>Humedad</th>\n",
       "      <th>Vel_vientos</th>\n",
       "      <th>BUENOS AIRES</th>\n",
       "      <th>CABA</th>\n",
       "      <th>CATAMARCA</th>\n",
       "      <th>CHACO</th>\n",
       "      <th>...</th>\n",
       "      <th>RÃO NEGRO</th>\n",
       "      <th>SALTA</th>\n",
       "      <th>SAN JUAN</th>\n",
       "      <th>SAN LUIS</th>\n",
       "      <th>SANTA CRUZ</th>\n",
       "      <th>SANTA FE</th>\n",
       "      <th>SANTIAGO DEL ESTERO</th>\n",
       "      <th>TIERRA DEL FUEGO</th>\n",
       "      <th>TUCUMÃN</th>\n",
       "      <th>USHUAIA</th>\n",
       "    </tr>\n",
       "  </thead>\n",
       "  <tbody>\n",
       "    <tr>\n",
       "      <th>523</th>\n",
       "      <td>5</td>\n",
       "      <td>2019</td>\n",
       "      <td>12.346341</td>\n",
       "      <td>4.524390</td>\n",
       "      <td>62.190244</td>\n",
       "      <td>7.839024</td>\n",
       "      <td>0</td>\n",
       "      <td>0</td>\n",
       "      <td>0</td>\n",
       "      <td>0</td>\n",
       "      <td>...</td>\n",
       "      <td>0</td>\n",
       "      <td>0</td>\n",
       "      <td>1</td>\n",
       "      <td>0</td>\n",
       "      <td>0</td>\n",
       "      <td>0</td>\n",
       "      <td>0</td>\n",
       "      <td>0</td>\n",
       "      <td>0</td>\n",
       "      <td>0</td>\n",
       "    </tr>\n",
       "    <tr>\n",
       "      <th>182</th>\n",
       "      <td>1</td>\n",
       "      <td>2020</td>\n",
       "      <td>24.343203</td>\n",
       "      <td>90.471429</td>\n",
       "      <td>65.784562</td>\n",
       "      <td>11.926267</td>\n",
       "      <td>0</td>\n",
       "      <td>0</td>\n",
       "      <td>0</td>\n",
       "      <td>0</td>\n",
       "      <td>...</td>\n",
       "      <td>0</td>\n",
       "      <td>0</td>\n",
       "      <td>0</td>\n",
       "      <td>0</td>\n",
       "      <td>0</td>\n",
       "      <td>0</td>\n",
       "      <td>0</td>\n",
       "      <td>0</td>\n",
       "      <td>0</td>\n",
       "      <td>0</td>\n",
       "    </tr>\n",
       "    <tr>\n",
       "      <th>221</th>\n",
       "      <td>4</td>\n",
       "      <td>2020</td>\n",
       "      <td>18.384242</td>\n",
       "      <td>113.727273</td>\n",
       "      <td>71.315152</td>\n",
       "      <td>9.963636</td>\n",
       "      <td>0</td>\n",
       "      <td>0</td>\n",
       "      <td>0</td>\n",
       "      <td>0</td>\n",
       "      <td>...</td>\n",
       "      <td>0</td>\n",
       "      <td>0</td>\n",
       "      <td>0</td>\n",
       "      <td>0</td>\n",
       "      <td>0</td>\n",
       "      <td>0</td>\n",
       "      <td>0</td>\n",
       "      <td>0</td>\n",
       "      <td>0</td>\n",
       "      <td>0</td>\n",
       "    </tr>\n",
       "    <tr>\n",
       "      <th>16</th>\n",
       "      <td>6</td>\n",
       "      <td>2019</td>\n",
       "      <td>11.143667</td>\n",
       "      <td>102.586000</td>\n",
       "      <td>81.225333</td>\n",
       "      <td>13.998000</td>\n",
       "      <td>1</td>\n",
       "      <td>0</td>\n",
       "      <td>0</td>\n",
       "      <td>0</td>\n",
       "      <td>...</td>\n",
       "      <td>0</td>\n",
       "      <td>0</td>\n",
       "      <td>0</td>\n",
       "      <td>0</td>\n",
       "      <td>0</td>\n",
       "      <td>0</td>\n",
       "      <td>0</td>\n",
       "      <td>0</td>\n",
       "      <td>0</td>\n",
       "      <td>0</td>\n",
       "    </tr>\n",
       "    <tr>\n",
       "      <th>579</th>\n",
       "      <td>4</td>\n",
       "      <td>2018</td>\n",
       "      <td>8.765000</td>\n",
       "      <td>59.050000</td>\n",
       "      <td>62.470833</td>\n",
       "      <td>23.166667</td>\n",
       "      <td>0</td>\n",
       "      <td>0</td>\n",
       "      <td>0</td>\n",
       "      <td>0</td>\n",
       "      <td>...</td>\n",
       "      <td>0</td>\n",
       "      <td>0</td>\n",
       "      <td>0</td>\n",
       "      <td>0</td>\n",
       "      <td>1</td>\n",
       "      <td>0</td>\n",
       "      <td>0</td>\n",
       "      <td>0</td>\n",
       "      <td>0</td>\n",
       "      <td>0</td>\n",
       "    </tr>\n",
       "    <tr>\n",
       "      <th>...</th>\n",
       "      <td>...</td>\n",
       "      <td>...</td>\n",
       "      <td>...</td>\n",
       "      <td>...</td>\n",
       "      <td>...</td>\n",
       "      <td>...</td>\n",
       "      <td>...</td>\n",
       "      <td>...</td>\n",
       "      <td>...</td>\n",
       "      <td>...</td>\n",
       "      <td>...</td>\n",
       "      <td>...</td>\n",
       "      <td>...</td>\n",
       "      <td>...</td>\n",
       "      <td>...</td>\n",
       "      <td>...</td>\n",
       "      <td>...</td>\n",
       "      <td>...</td>\n",
       "      <td>...</td>\n",
       "      <td>...</td>\n",
       "      <td>...</td>\n",
       "    </tr>\n",
       "    <tr>\n",
       "      <th>637</th>\n",
       "      <td>3</td>\n",
       "      <td>2019</td>\n",
       "      <td>22.280645</td>\n",
       "      <td>77.800000</td>\n",
       "      <td>77.774194</td>\n",
       "      <td>8.088710</td>\n",
       "      <td>0</td>\n",
       "      <td>0</td>\n",
       "      <td>0</td>\n",
       "      <td>0</td>\n",
       "      <td>...</td>\n",
       "      <td>0</td>\n",
       "      <td>0</td>\n",
       "      <td>0</td>\n",
       "      <td>0</td>\n",
       "      <td>0</td>\n",
       "      <td>0</td>\n",
       "      <td>1</td>\n",
       "      <td>0</td>\n",
       "      <td>0</td>\n",
       "      <td>0</td>\n",
       "    </tr>\n",
       "    <tr>\n",
       "      <th>317</th>\n",
       "      <td>6</td>\n",
       "      <td>2020</td>\n",
       "      <td>8.490583</td>\n",
       "      <td>12.401794</td>\n",
       "      <td>74.443946</td>\n",
       "      <td>13.860987</td>\n",
       "      <td>0</td>\n",
       "      <td>0</td>\n",
       "      <td>0</td>\n",
       "      <td>0</td>\n",
       "      <td>...</td>\n",
       "      <td>0</td>\n",
       "      <td>0</td>\n",
       "      <td>0</td>\n",
       "      <td>0</td>\n",
       "      <td>0</td>\n",
       "      <td>0</td>\n",
       "      <td>0</td>\n",
       "      <td>0</td>\n",
       "      <td>0</td>\n",
       "      <td>0</td>\n",
       "    </tr>\n",
       "    <tr>\n",
       "      <th>727</th>\n",
       "      <td>3</td>\n",
       "      <td>2019</td>\n",
       "      <td>8.816935</td>\n",
       "      <td>44.400000</td>\n",
       "      <td>73.572581</td>\n",
       "      <td>18.338710</td>\n",
       "      <td>0</td>\n",
       "      <td>0</td>\n",
       "      <td>0</td>\n",
       "      <td>0</td>\n",
       "      <td>...</td>\n",
       "      <td>0</td>\n",
       "      <td>0</td>\n",
       "      <td>0</td>\n",
       "      <td>0</td>\n",
       "      <td>0</td>\n",
       "      <td>0</td>\n",
       "      <td>0</td>\n",
       "      <td>0</td>\n",
       "      <td>0</td>\n",
       "      <td>1</td>\n",
       "    </tr>\n",
       "    <tr>\n",
       "      <th>282</th>\n",
       "      <td>5</td>\n",
       "      <td>2018</td>\n",
       "      <td>12.462097</td>\n",
       "      <td>12.400000</td>\n",
       "      <td>62.399194</td>\n",
       "      <td>5.326613</td>\n",
       "      <td>0</td>\n",
       "      <td>0</td>\n",
       "      <td>0</td>\n",
       "      <td>0</td>\n",
       "      <td>...</td>\n",
       "      <td>0</td>\n",
       "      <td>0</td>\n",
       "      <td>0</td>\n",
       "      <td>0</td>\n",
       "      <td>0</td>\n",
       "      <td>0</td>\n",
       "      <td>0</td>\n",
       "      <td>0</td>\n",
       "      <td>0</td>\n",
       "      <td>0</td>\n",
       "    </tr>\n",
       "    <tr>\n",
       "      <th>194</th>\n",
       "      <td>5</td>\n",
       "      <td>2020</td>\n",
       "      <td>13.719952</td>\n",
       "      <td>0.000000</td>\n",
       "      <td>60.661888</td>\n",
       "      <td>10.537634</td>\n",
       "      <td>0</td>\n",
       "      <td>0</td>\n",
       "      <td>0</td>\n",
       "      <td>0</td>\n",
       "      <td>...</td>\n",
       "      <td>0</td>\n",
       "      <td>0</td>\n",
       "      <td>0</td>\n",
       "      <td>0</td>\n",
       "      <td>0</td>\n",
       "      <td>0</td>\n",
       "      <td>0</td>\n",
       "      <td>0</td>\n",
       "      <td>0</td>\n",
       "      <td>0</td>\n",
       "    </tr>\n",
       "  </tbody>\n",
       "</table>\n",
       "<p>270 rows × 31 columns</p>\n",
       "</div>"
      ],
      "text/plain": [
       "     Mes  Anio  Temperatura  Precipitacion    Humedad  Vel_vientos  \\\n",
       "523    5  2019    12.346341       4.524390  62.190244     7.839024   \n",
       "182    1  2020    24.343203      90.471429  65.784562    11.926267   \n",
       "221    4  2020    18.384242     113.727273  71.315152     9.963636   \n",
       "16     6  2019    11.143667     102.586000  81.225333    13.998000   \n",
       "579    4  2018     8.765000      59.050000  62.470833    23.166667   \n",
       "..   ...   ...          ...            ...        ...          ...   \n",
       "637    3  2019    22.280645      77.800000  77.774194     8.088710   \n",
       "317    6  2020     8.490583      12.401794  74.443946    13.860987   \n",
       "727    3  2019     8.816935      44.400000  73.572581    18.338710   \n",
       "282    5  2018    12.462097      12.400000  62.399194     5.326613   \n",
       "194    5  2020    13.719952       0.000000  60.661888    10.537634   \n",
       "\n",
       "     BUENOS AIRES  CABA  CATAMARCA  CHACO  ...  RÃO NEGRO  SALTA  SAN JUAN  \\\n",
       "523             0     0          0      0  ...           0      0         1   \n",
       "182             0     0          0      0  ...           0      0         0   \n",
       "221             0     0          0      0  ...           0      0         0   \n",
       "16              1     0          0      0  ...           0      0         0   \n",
       "579             0     0          0      0  ...           0      0         0   \n",
       "..            ...   ...        ...    ...  ...         ...    ...       ...   \n",
       "637             0     0          0      0  ...           0      0         0   \n",
       "317             0     0          0      0  ...           0      0         0   \n",
       "727             0     0          0      0  ...           0      0         0   \n",
       "282             0     0          0      0  ...           0      0         0   \n",
       "194             0     0          0      0  ...           0      0         0   \n",
       "\n",
       "     SAN LUIS  SANTA CRUZ  SANTA FE  SANTIAGO DEL ESTERO  TIERRA DEL FUEGO  \\\n",
       "523         0           0         0                    0                 0   \n",
       "182         0           0         0                    0                 0   \n",
       "221         0           0         0                    0                 0   \n",
       "16          0           0         0                    0                 0   \n",
       "579         0           1         0                    0                 0   \n",
       "..        ...         ...       ...                  ...               ...   \n",
       "637         0           0         0                    1                 0   \n",
       "317         0           0         0                    0                 0   \n",
       "727         0           0         0                    0                 0   \n",
       "282         0           0         0                    0                 0   \n",
       "194         0           0         0                    0                 0   \n",
       "\n",
       "     TUCUMÃN  USHUAIA  \n",
       "523         0        0  \n",
       "182         0        0  \n",
       "221         0        0  \n",
       "16          0        0  \n",
       "579         0        0  \n",
       "..        ...      ...  \n",
       "637         0        0  \n",
       "317         0        0  \n",
       "727         0        1  \n",
       "282         0        0  \n",
       "194         0        0  \n",
       "\n",
       "[270 rows x 31 columns]"
      ]
     },
     "execution_count": 13,
     "metadata": {},
     "output_type": "execute_result"
    }
   ],
   "source": [
    "x_train"
   ]
  },
  {
   "cell_type": "code",
   "execution_count": 14,
   "metadata": {
    "colab": {
     "base_uri": "https://localhost:8080/"
    },
    "executionInfo": {
     "elapsed": 956,
     "status": "ok",
     "timestamp": 1605642679123,
     "user": {
      "displayName": "Lorenzo Fresca",
      "photoUrl": "",
      "userId": "12706337198170933235"
     },
     "user_tz": 180
    },
    "id": "OtA9YkVlfyWd",
    "outputId": "a8b834cf-d04f-4feb-f5c1-e37313c66924"
   },
   "outputs": [
    {
     "data": {
      "text/plain": [
       "StandardScaler()"
      ]
     },
     "execution_count": 14,
     "metadata": {},
     "output_type": "execute_result"
    }
   ],
   "source": [
    "#Escalamos los datos \n",
    "scaler = preprocessing.StandardScaler().fit(x_train)\n",
    "scaler"
   ]
  },
  {
   "cell_type": "code",
   "execution_count": 15,
   "metadata": {
    "executionInfo": {
     "elapsed": 749,
     "status": "ok",
     "timestamp": 1605642683204,
     "user": {
      "displayName": "Lorenzo Fresca",
      "photoUrl": "",
      "userId": "12706337198170933235"
     },
     "user_tz": 180
    },
    "id": "oVU2PwD3fyWd"
   },
   "outputs": [],
   "source": [
    "x_train_scaled = scaler.transform(x_train) \n",
    "x_test_scaled= scaler.transform(x_test) "
   ]
  },
  {
   "cell_type": "code",
   "execution_count": 16,
   "metadata": {
    "executionInfo": {
     "elapsed": 853,
     "status": "ok",
     "timestamp": 1605642805589,
     "user": {
      "displayName": "Lorenzo Fresca",
      "photoUrl": "",
      "userId": "12706337198170933235"
     },
     "user_tz": 180
    },
    "id": "zZvp8H4SfyWd"
   },
   "outputs": [],
   "source": [
    "#Creamos una matriz donde guardamos los resultados de cada modelo\n",
    "resultados = pd.DataFrame(columns=['Modelo','R2','RMSE','MAE'])"
   ]
  },
  {
   "cell_type": "code",
   "execution_count": 17,
   "metadata": {
    "executionInfo": {
     "elapsed": 814,
     "status": "ok",
     "timestamp": 1605642810869,
     "user": {
      "displayName": "Lorenzo Fresca",
      "photoUrl": "",
      "userId": "12706337198170933235"
     },
     "user_tz": 180
    },
    "id": "4_d8F6AufyWd"
   },
   "outputs": [],
   "source": [
    "#Definimos el estimador para una regresión lineal\n",
    "est = LinearRegression()\n",
    "#Definimos el hyper-parametro de regresión lineal, que nos dice si arrancamos desde el origen o no\n",
    "parameters = {'fit_intercept' : [False, True]}\n",
    "#Definimos la cantidad de folds para validar\n",
    "n_folds = 5\n",
    "#Definimos el objeto grid search con los parámetros anteriores\n",
    "gs = GridSearchCV(est, param_grid=parameters, cv=n_folds, refit=True, scoring=\"neg_mean_squared_error\")"
   ]
  },
  {
   "cell_type": "code",
   "execution_count": 18,
   "metadata": {
    "colab": {
     "base_uri": "https://localhost:8080/"
    },
    "executionInfo": {
     "elapsed": 894,
     "status": "ok",
     "timestamp": 1605642812295,
     "user": {
      "displayName": "Lorenzo Fresca",
      "photoUrl": "",
      "userId": "12706337198170933235"
     },
     "user_tz": 180
    },
    "id": "PGTnsm9ffyWe",
    "outputId": "7990ace9-5f7c-49c0-af9a-73192b3e5bcb"
   },
   "outputs": [
    {
     "data": {
      "text/plain": [
       "GridSearchCV(cv=5, estimator=LinearRegression(),\n",
       "             param_grid={'fit_intercept': [False, True]},\n",
       "             scoring='neg_mean_squared_error')"
      ]
     },
     "execution_count": 18,
     "metadata": {},
     "output_type": "execute_result"
    }
   ],
   "source": [
    "#Entrenamos nuestro modelo\n",
    "gs.fit(x_train_scaled, y_train)"
   ]
  },
  {
   "cell_type": "code",
   "execution_count": 19,
   "metadata": {
    "colab": {
     "base_uri": "https://localhost:8080/"
    },
    "executionInfo": {
     "elapsed": 485,
     "status": "ok",
     "timestamp": 1605642812676,
     "user": {
      "displayName": "Lorenzo Fresca",
      "photoUrl": "",
      "userId": "12706337198170933235"
     },
     "user_tz": 180
    },
    "id": "vdJXsk2ZfyWe",
    "outputId": "9165e767-b6b5-4675-d516-426bfbeee99f"
   },
   "outputs": [
    {
     "name": "stdout",
     "output_type": "stream",
     "text": [
      "LinearRegression() \n",
      "\n",
      "{'fit_intercept': True} \n",
      "\n",
      "-368382.41615514614 \n",
      "\n"
     ]
    }
   ],
   "source": [
    "# Mostramos el mejor estimador, sus hiperparametros seleccionados y su resultado\n",
    "print(gs.best_estimator_, \"\\n\")\n",
    "print(gs.best_params_, \"\\n\")\n",
    "print(gs.best_score_, \"\\n\")"
   ]
  },
  {
   "cell_type": "code",
   "execution_count": 20,
   "metadata": {
    "executionInfo": {
     "elapsed": 789,
     "status": "ok",
     "timestamp": 1605642814849,
     "user": {
      "displayName": "Lorenzo Fresca",
      "photoUrl": "",
      "userId": "12706337198170933235"
     },
     "user_tz": 180
    },
    "id": "xIFLpBdJfyWe"
   },
   "outputs": [],
   "source": [
    "# Usamos x_test para predecir con el mejor estimador\n",
    "linear_prediction = gs.best_estimator_.predict(x_test_scaled)\n",
    "#Calculamos las metricas R2, RMSE y MAE\n",
    "linear_r2 = r2_score(y_true=y_test, y_pred=linear_prediction)\n",
    "linear_rmse = mean_squared_error(y_true=y_test, y_pred=linear_prediction)\n",
    "linear_mae = mean_absolute_error(y_true=y_test, y_pred=linear_prediction)"
   ]
  },
  {
   "cell_type": "code",
   "execution_count": 21,
   "metadata": {
    "colab": {
     "base_uri": "https://localhost:8080/"
    },
    "executionInfo": {
     "elapsed": 1106,
     "status": "ok",
     "timestamp": 1605642817464,
     "user": {
      "displayName": "Lorenzo Fresca",
      "photoUrl": "",
      "userId": "12706337198170933235"
     },
     "user_tz": 180
    },
    "id": "RgGbSZiWfyWe",
    "outputId": "3a71593c-7335-4afa-afc5-71d189b7ab49"
   },
   "outputs": [
    {
     "name": "stdout",
     "output_type": "stream",
     "text": [
      "R2 score: 0.055411\n",
      "MAE: 234.900743\n",
      "RMSE: 138142.776964\n"
     ]
    }
   ],
   "source": [
    "#Vamos a plotear Predictions vs True values\n",
    "print(f'R2 score: {linear_r2:.6f}')\n",
    "print(f'MAE: {linear_mae:.6f}')\n",
    "print(f'RMSE: {linear_rmse:.6f}')"
   ]
  },
  {
   "cell_type": "code",
   "execution_count": 22,
   "metadata": {
    "colab": {
     "base_uri": "https://localhost:8080/",
     "height": 80
    },
    "executionInfo": {
     "elapsed": 1322,
     "status": "ok",
     "timestamp": 1605642819591,
     "user": {
      "displayName": "Lorenzo Fresca",
      "photoUrl": "",
      "userId": "12706337198170933235"
     },
     "user_tz": 180
    },
    "id": "ivI5GOyvfyWf",
    "outputId": "f81c4281-ce44-4343-cd77-aa1c0eb45042"
   },
   "outputs": [
    {
     "data": {
      "text/html": [
       "<div>\n",
       "<style scoped>\n",
       "    .dataframe tbody tr th:only-of-type {\n",
       "        vertical-align: middle;\n",
       "    }\n",
       "\n",
       "    .dataframe tbody tr th {\n",
       "        vertical-align: top;\n",
       "    }\n",
       "\n",
       "    .dataframe thead th {\n",
       "        text-align: right;\n",
       "    }\n",
       "</style>\n",
       "<table border=\"1\" class=\"dataframe\">\n",
       "  <thead>\n",
       "    <tr style=\"text-align: right;\">\n",
       "      <th></th>\n",
       "      <th>Modelo</th>\n",
       "      <th>R2</th>\n",
       "      <th>RMSE</th>\n",
       "      <th>MAE</th>\n",
       "    </tr>\n",
       "  </thead>\n",
       "  <tbody>\n",
       "    <tr>\n",
       "      <th>0</th>\n",
       "      <td>Linear</td>\n",
       "      <td>0.055411</td>\n",
       "      <td>138142.776964</td>\n",
       "      <td>234.900743</td>\n",
       "    </tr>\n",
       "  </tbody>\n",
       "</table>\n",
       "</div>"
      ],
      "text/plain": [
       "   Modelo        R2           RMSE         MAE\n",
       "0  Linear  0.055411  138142.776964  234.900743"
      ]
     },
     "execution_count": 22,
     "metadata": {},
     "output_type": "execute_result"
    }
   ],
   "source": [
    "#Guardamos los resultados\n",
    "resultados = resultados.append({'Modelo':'Linear',\n",
    "                                'R2':linear_r2,\n",
    "                                'RMSE':linear_rmse,\n",
    "                                'MAE':linear_mae},ignore_index=True)\n",
    "resultados"
   ]
  },
  {
   "cell_type": "code",
   "execution_count": 23,
   "metadata": {
    "executionInfo": {
     "elapsed": 766,
     "status": "ok",
     "timestamp": 1605642830115,
     "user": {
      "displayName": "Lorenzo Fresca",
      "photoUrl": "",
      "userId": "12706337198170933235"
     },
     "user_tz": 180
    },
    "id": "Ypyy1j5RfyWf"
   },
   "outputs": [],
   "source": [
    "# Ahora cambiamos el estimador, usaremos Ridge Regression para regularizar\n",
    "est = Ridge()\n",
    "# Lista del parametro lambda \n",
    "lambdas = [0.001,0.005,0.01,0.02,0.05,0.1,0.2,0.3,0.4,0.5,1]\n",
    "parameters = {'alpha': lambdas}\n",
    "# Definimos nuevamente el objeto GS con los parametros previamente definidos\n",
    "gs = GridSearchCV(est, param_grid=parameters,refit=True, cv=n_folds, scoring=\"neg_mean_squared_error\")"
   ]
  },
  {
   "cell_type": "code",
   "execution_count": 24,
   "metadata": {
    "colab": {
     "base_uri": "https://localhost:8080/"
    },
    "executionInfo": {
     "elapsed": 827,
     "status": "ok",
     "timestamp": 1605642837292,
     "user": {
      "displayName": "Lorenzo Fresca",
      "photoUrl": "",
      "userId": "12706337198170933235"
     },
     "user_tz": 180
    },
    "id": "5liGHhNrfyWf",
    "outputId": "5c56e25e-c174-48c6-97ce-32d639774211"
   },
   "outputs": [
    {
     "data": {
      "text/plain": [
       "GridSearchCV(cv=5, estimator=Ridge(),\n",
       "             param_grid={'alpha': [0.001, 0.005, 0.01, 0.02, 0.05, 0.1, 0.2,\n",
       "                                   0.3, 0.4, 0.5, 1]},\n",
       "             scoring='neg_mean_squared_error')"
      ]
     },
     "execution_count": 24,
     "metadata": {},
     "output_type": "execute_result"
    }
   ],
   "source": [
    "# Entrenamos\n",
    "gs.fit(x_train_scaled, y_train)"
   ]
  },
  {
   "cell_type": "code",
   "execution_count": 25,
   "metadata": {
    "colab": {
     "base_uri": "https://localhost:8080/"
    },
    "executionInfo": {
     "elapsed": 796,
     "status": "ok",
     "timestamp": 1605642844320,
     "user": {
      "displayName": "Lorenzo Fresca",
      "photoUrl": "",
      "userId": "12706337198170933235"
     },
     "user_tz": 180
    },
    "id": "CyPaLjWafyWf",
    "outputId": "32bdb4f3-94d8-49ee-99e1-2635d728b8a1"
   },
   "outputs": [
    {
     "name": "stdout",
     "output_type": "stream",
     "text": [
      "Ridge(alpha=1) \n",
      "\n",
      "{'alpha': 1} \n",
      "\n",
      "-366873.0693650318 \n",
      "\n"
     ]
    }
   ],
   "source": [
    "# Mostramos el mejor estimador, sus hyperparametros seleccionados y su resultado\n",
    "print(gs.best_estimator_, \"\\n\")\n",
    "print(gs.best_params_, \"\\n\")\n",
    "print(gs.best_score_, \"\\n\")"
   ]
  },
  {
   "cell_type": "code",
   "execution_count": 26,
   "metadata": {
    "executionInfo": {
     "elapsed": 873,
     "status": "ok",
     "timestamp": 1605642853551,
     "user": {
      "displayName": "Lorenzo Fresca",
      "photoUrl": "",
      "userId": "12706337198170933235"
     },
     "user_tz": 180
    },
    "id": "Ux73-b8BfyWg"
   },
   "outputs": [],
   "source": [
    "#Predicciones + Metricas\n",
    "ridge_prediction = gs.best_estimator_.predict(x_test_scaled)\n",
    "ridge_r2 = r2_score(y_true=y_test, y_pred=ridge_prediction)\n",
    "ridge_rmse = mean_squared_error(y_true=y_test, y_pred=ridge_prediction)\n",
    "ridge_mae = mean_absolute_error(y_true=y_test, y_pred=ridge_prediction)"
   ]
  },
  {
   "cell_type": "code",
   "execution_count": 27,
   "metadata": {
    "colab": {
     "base_uri": "https://localhost:8080/"
    },
    "executionInfo": {
     "elapsed": 1043,
     "status": "ok",
     "timestamp": 1605642869724,
     "user": {
      "displayName": "Lorenzo Fresca",
      "photoUrl": "",
      "userId": "12706337198170933235"
     },
     "user_tz": 180
    },
    "id": "p2dS8qgjfyWg",
    "outputId": "c3f9ee0f-2e69-4ef4-ec5f-11ff7a718145"
   },
   "outputs": [
    {
     "name": "stdout",
     "output_type": "stream",
     "text": [
      "R2 score: 0.060763\n",
      "RMSE: 137360.102330\n",
      "MAE: 232.822357\n"
     ]
    }
   ],
   "source": [
    "print(f'R2 score: {ridge_r2:.6f}')\n",
    "print(f'RMSE: {ridge_rmse:.6f}')\n",
    "print(f'MAE: {ridge_mae:.6f}')"
   ]
  },
  {
   "cell_type": "code",
   "execution_count": 28,
   "metadata": {
    "colab": {
     "base_uri": "https://localhost:8080/",
     "height": 111
    },
    "executionInfo": {
     "elapsed": 971,
     "status": "ok",
     "timestamp": 1605642884611,
     "user": {
      "displayName": "Lorenzo Fresca",
      "photoUrl": "",
      "userId": "12706337198170933235"
     },
     "user_tz": 180
    },
    "id": "1G4LG4JbfyWg",
    "outputId": "4c342a71-fc6a-4079-f324-83cd5bcb7b51"
   },
   "outputs": [
    {
     "data": {
      "text/html": [
       "<div>\n",
       "<style scoped>\n",
       "    .dataframe tbody tr th:only-of-type {\n",
       "        vertical-align: middle;\n",
       "    }\n",
       "\n",
       "    .dataframe tbody tr th {\n",
       "        vertical-align: top;\n",
       "    }\n",
       "\n",
       "    .dataframe thead th {\n",
       "        text-align: right;\n",
       "    }\n",
       "</style>\n",
       "<table border=\"1\" class=\"dataframe\">\n",
       "  <thead>\n",
       "    <tr style=\"text-align: right;\">\n",
       "      <th></th>\n",
       "      <th>Modelo</th>\n",
       "      <th>R2</th>\n",
       "      <th>RMSE</th>\n",
       "      <th>MAE</th>\n",
       "    </tr>\n",
       "  </thead>\n",
       "  <tbody>\n",
       "    <tr>\n",
       "      <th>0</th>\n",
       "      <td>Linear</td>\n",
       "      <td>0.055411</td>\n",
       "      <td>138142.776964</td>\n",
       "      <td>234.900743</td>\n",
       "    </tr>\n",
       "    <tr>\n",
       "      <th>1</th>\n",
       "      <td>Ridge Regression</td>\n",
       "      <td>0.060763</td>\n",
       "      <td>137360.102330</td>\n",
       "      <td>232.822357</td>\n",
       "    </tr>\n",
       "  </tbody>\n",
       "</table>\n",
       "</div>"
      ],
      "text/plain": [
       "             Modelo        R2           RMSE         MAE\n",
       "0            Linear  0.055411  138142.776964  234.900743\n",
       "1  Ridge Regression  0.060763  137360.102330  232.822357"
      ]
     },
     "execution_count": 28,
     "metadata": {},
     "output_type": "execute_result"
    }
   ],
   "source": [
    "resultados = resultados.append({'Modelo':'Ridge Regression',\n",
    "                                'R2':ridge_r2,\n",
    "                                'RMSE':ridge_rmse,\n",
    "                                'MAE':ridge_mae},ignore_index=True)\n",
    "resultados"
   ]
  },
  {
   "cell_type": "code",
   "execution_count": 29,
   "metadata": {
    "colab": {
     "base_uri": "https://localhost:8080/"
    },
    "executionInfo": {
     "elapsed": 790,
     "status": "ok",
     "timestamp": 1605642912540,
     "user": {
      "displayName": "Lorenzo Fresca",
      "photoUrl": "",
      "userId": "12706337198170933235"
     },
     "user_tz": 180
    },
    "id": "mm-H5d1XfyWh",
    "outputId": "80e342c7-d101-461c-a48d-8601e87a8680"
   },
   "outputs": [
    {
     "data": {
      "text/plain": [
       "0.0627507209254855"
      ]
     },
     "execution_count": 29,
     "metadata": {},
     "output_type": "execute_result"
    }
   ],
   "source": [
    "#Probamos con otro modelo de regularizción\n",
    "from sklearn.linear_model import Lasso\n",
    "lasso = Lasso()\n",
    "lasso.fit(x_train_scaled,y_train)\n",
    "train_score=lasso.score(x_train_scaled,y_train)\n",
    "test_score=lasso.score(x_test_scaled,y_test)\n",
    "y_pred_lasso = lasso.predict(x_test_scaled)\n",
    "lasso_rmse = mean_squared_error(y_true=y_test, y_pred=y_pred_lasso)\n",
    "lasso_mae = mean_absolute_error(y_true=y_test, y_pred=y_pred_lasso)\n",
    "test_score\n"
   ]
  },
  {
   "cell_type": "code",
   "execution_count": 30,
   "metadata": {
    "colab": {
     "base_uri": "https://localhost:8080/",
     "height": 142
    },
    "executionInfo": {
     "elapsed": 1193,
     "status": "ok",
     "timestamp": 1605642919003,
     "user": {
      "displayName": "Lorenzo Fresca",
      "photoUrl": "",
      "userId": "12706337198170933235"
     },
     "user_tz": 180
    },
    "id": "XZg1vSGqfyWh",
    "outputId": "74cc137d-2363-40f5-fccc-b7a891da4078"
   },
   "outputs": [
    {
     "data": {
      "text/html": [
       "<div>\n",
       "<style scoped>\n",
       "    .dataframe tbody tr th:only-of-type {\n",
       "        vertical-align: middle;\n",
       "    }\n",
       "\n",
       "    .dataframe tbody tr th {\n",
       "        vertical-align: top;\n",
       "    }\n",
       "\n",
       "    .dataframe thead th {\n",
       "        text-align: right;\n",
       "    }\n",
       "</style>\n",
       "<table border=\"1\" class=\"dataframe\">\n",
       "  <thead>\n",
       "    <tr style=\"text-align: right;\">\n",
       "      <th></th>\n",
       "      <th>Modelo</th>\n",
       "      <th>R2</th>\n",
       "      <th>RMSE</th>\n",
       "      <th>MAE</th>\n",
       "    </tr>\n",
       "  </thead>\n",
       "  <tbody>\n",
       "    <tr>\n",
       "      <th>0</th>\n",
       "      <td>Linear</td>\n",
       "      <td>0.055411</td>\n",
       "      <td>138142.776964</td>\n",
       "      <td>234.900743</td>\n",
       "    </tr>\n",
       "    <tr>\n",
       "      <th>1</th>\n",
       "      <td>Ridge Regression</td>\n",
       "      <td>0.060763</td>\n",
       "      <td>137360.102330</td>\n",
       "      <td>232.822357</td>\n",
       "    </tr>\n",
       "    <tr>\n",
       "      <th>2</th>\n",
       "      <td>Lasso</td>\n",
       "      <td>0.062751</td>\n",
       "      <td>137069.401930</td>\n",
       "      <td>231.725174</td>\n",
       "    </tr>\n",
       "  </tbody>\n",
       "</table>\n",
       "</div>"
      ],
      "text/plain": [
       "             Modelo        R2           RMSE         MAE\n",
       "0            Linear  0.055411  138142.776964  234.900743\n",
       "1  Ridge Regression  0.060763  137360.102330  232.822357\n",
       "2             Lasso  0.062751  137069.401930  231.725174"
      ]
     },
     "execution_count": 30,
     "metadata": {},
     "output_type": "execute_result"
    }
   ],
   "source": [
    "resultados = resultados.append({'Modelo':'Lasso',\n",
    "                                'R2':test_score,\n",
    "                                'RMSE':lasso_rmse,\n",
    "                                'MAE':lasso_mae},ignore_index=True)\n",
    "resultados"
   ]
  },
  {
   "cell_type": "code",
   "execution_count": 31,
   "metadata": {
    "executionInfo": {
     "elapsed": 890,
     "status": "ok",
     "timestamp": 1605642925237,
     "user": {
      "displayName": "Lorenzo Fresca",
      "photoUrl": "",
      "userId": "12706337198170933235"
     },
     "user_tz": 180
    },
    "id": "EVy00A95fyWh"
   },
   "outputs": [],
   "source": [
    "# Ahora cambiamos el estimador, usaremos SVR (Super Vector Regression)\n",
    "est = SVR(max_iter=25000)\n",
    "# Lista del parametros, con Kernels\n",
    "parameters = {'kernel':('linear', 'rbf'),\n",
    "    'C' : [1000,1500,2000,3000,5000],\n",
    "              'epsilon' : [0.001, 0.01, 0.1,1, 10,100],\n",
    "             'gamma':[0.001, 0.01, 0.1,1, 10,100]}\n",
    "# Definimos el objeto GS con los parametros definidos\n",
    "gs = GridSearchCV(est, param_grid=parameters,refit=True,\n",
    "                  cv=n_folds, scoring=\"neg_mean_squared_error\",\n",
    "                  verbose=3, n_jobs=3)\n",
    "\n"
   ]
  },
  {
   "cell_type": "code",
   "execution_count": 32,
   "metadata": {
    "colab": {
     "base_uri": "https://localhost:8080/"
    },
    "executionInfo": {
     "elapsed": 85166,
     "status": "ok",
     "timestamp": 1605643010679,
     "user": {
      "displayName": "Lorenzo Fresca",
      "photoUrl": "",
      "userId": "12706337198170933235"
     },
     "user_tz": 180
    },
    "id": "0xuuoHwsfyWh",
    "outputId": "d9331897-19f7-48fd-eaff-f75120ad9ade"
   },
   "outputs": [
    {
     "name": "stdout",
     "output_type": "stream",
     "text": [
      "Fitting 5 folds for each of 360 candidates, totalling 1800 fits\n"
     ]
    },
    {
     "name": "stderr",
     "output_type": "stream",
     "text": [
      "[Parallel(n_jobs=3)]: Using backend LokyBackend with 3 concurrent workers.\n",
      "[Parallel(n_jobs=3)]: Done  28 tasks      | elapsed:    1.6s\n",
      "[Parallel(n_jobs=3)]: Done 748 tasks      | elapsed:   10.2s\n",
      "[Parallel(n_jobs=3)]: Done 1800 out of 1800 | elapsed:   24.4s finished\n"
     ]
    },
    {
     "data": {
      "text/plain": [
       "GridSearchCV(cv=5, estimator=SVR(max_iter=25000), n_jobs=3,\n",
       "             param_grid={'C': [1000, 1500, 2000, 3000, 5000],\n",
       "                         'epsilon': [0.001, 0.01, 0.1, 1, 10, 100],\n",
       "                         'gamma': [0.001, 0.01, 0.1, 1, 10, 100],\n",
       "                         'kernel': ('linear', 'rbf')},\n",
       "             scoring='neg_mean_squared_error', verbose=3)"
      ]
     },
     "execution_count": 32,
     "metadata": {},
     "output_type": "execute_result"
    }
   ],
   "source": [
    "gs.fit(x_train_scaled, y_train)"
   ]
  },
  {
   "cell_type": "code",
   "execution_count": 33,
   "metadata": {
    "colab": {
     "base_uri": "https://localhost:8080/"
    },
    "executionInfo": {
     "elapsed": 82410,
     "status": "ok",
     "timestamp": 1605643010683,
     "user": {
      "displayName": "Lorenzo Fresca",
      "photoUrl": "",
      "userId": "12706337198170933235"
     },
     "user_tz": 180
    },
    "id": "n4k04FQ1fyWh",
    "outputId": "03a662e0-1556-4f3a-9849-60ff2eee3c11"
   },
   "outputs": [
    {
     "name": "stdout",
     "output_type": "stream",
     "text": [
      "SVR(C=1500, epsilon=100, gamma=0.1, max_iter=25000) \n",
      "\n",
      "{'C': 1500, 'epsilon': 100, 'gamma': 0.1, 'kernel': 'rbf'} \n",
      "\n",
      "-347490.5495057312 \n",
      "\n"
     ]
    }
   ],
   "source": [
    "print(gs.best_estimator_, \"\\n\")\n",
    "print(gs.best_params_, \"\\n\")\n",
    "print(gs.best_score_, \"\\n\")"
   ]
  },
  {
   "cell_type": "code",
   "execution_count": 34,
   "metadata": {
    "executionInfo": {
     "elapsed": 843,
     "status": "ok",
     "timestamp": 1605643074031,
     "user": {
      "displayName": "Lorenzo Fresca",
      "photoUrl": "",
      "userId": "12706337198170933235"
     },
     "user_tz": 180
    },
    "id": "TW9bR2C7fyWi"
   },
   "outputs": [],
   "source": [
    "# Prediccion + Metricas\n",
    "svr_prediction = gs.best_estimator_.predict(x_test_scaled)\n",
    "svr_r2 = r2_score(y_true=y_test, y_pred=svr_prediction)\n",
    "svr_rmse = mean_squared_error(y_true=y_test, y_pred=svr_prediction)\n",
    "svr_mae = mean_absolute_error(y_true=y_test, y_pred=svr_prediction)"
   ]
  },
  {
   "cell_type": "code",
   "execution_count": 35,
   "metadata": {
    "colab": {
     "base_uri": "https://localhost:8080/"
    },
    "executionInfo": {
     "elapsed": 1003,
     "status": "ok",
     "timestamp": 1605643085081,
     "user": {
      "displayName": "Lorenzo Fresca",
      "photoUrl": "",
      "userId": "12706337198170933235"
     },
     "user_tz": 180
    },
    "id": "qYpK30IyfyWi",
    "outputId": "bb427258-0957-4002-f47d-0617c7c457b9"
   },
   "outputs": [
    {
     "name": "stdout",
     "output_type": "stream",
     "text": [
      "R2 score: 0.317942\n",
      "MAE: 164.337727\n",
      "RMSE: 99748.575227\n"
     ]
    }
   ],
   "source": [
    "print(f'R2 score: {svr_r2:.6f}')\n",
    "print(f'MAE: {svr_mae:.6f}')\n",
    "print(f'RMSE: {svr_rmse:.6f}')"
   ]
  },
  {
   "cell_type": "code",
   "execution_count": 36,
   "metadata": {
    "colab": {
     "base_uri": "https://localhost:8080/",
     "height": 173
    },
    "executionInfo": {
     "elapsed": 978,
     "status": "ok",
     "timestamp": 1605643088503,
     "user": {
      "displayName": "Lorenzo Fresca",
      "photoUrl": "",
      "userId": "12706337198170933235"
     },
     "user_tz": 180
    },
    "id": "KFwBub0ifyWi",
    "outputId": "209a0fd3-ab2a-43d4-e423-2f5eb3edb054"
   },
   "outputs": [
    {
     "data": {
      "text/html": [
       "<div>\n",
       "<style scoped>\n",
       "    .dataframe tbody tr th:only-of-type {\n",
       "        vertical-align: middle;\n",
       "    }\n",
       "\n",
       "    .dataframe tbody tr th {\n",
       "        vertical-align: top;\n",
       "    }\n",
       "\n",
       "    .dataframe thead th {\n",
       "        text-align: right;\n",
       "    }\n",
       "</style>\n",
       "<table border=\"1\" class=\"dataframe\">\n",
       "  <thead>\n",
       "    <tr style=\"text-align: right;\">\n",
       "      <th></th>\n",
       "      <th>Modelo</th>\n",
       "      <th>R2</th>\n",
       "      <th>RMSE</th>\n",
       "      <th>MAE</th>\n",
       "    </tr>\n",
       "  </thead>\n",
       "  <tbody>\n",
       "    <tr>\n",
       "      <th>0</th>\n",
       "      <td>Linear</td>\n",
       "      <td>0.055411</td>\n",
       "      <td>138142.776964</td>\n",
       "      <td>234.900743</td>\n",
       "    </tr>\n",
       "    <tr>\n",
       "      <th>1</th>\n",
       "      <td>Ridge Regression</td>\n",
       "      <td>0.060763</td>\n",
       "      <td>137360.102330</td>\n",
       "      <td>232.822357</td>\n",
       "    </tr>\n",
       "    <tr>\n",
       "      <th>2</th>\n",
       "      <td>Lasso</td>\n",
       "      <td>0.062751</td>\n",
       "      <td>137069.401930</td>\n",
       "      <td>231.725174</td>\n",
       "    </tr>\n",
       "    <tr>\n",
       "      <th>3</th>\n",
       "      <td>SVR</td>\n",
       "      <td>0.317942</td>\n",
       "      <td>99748.575227</td>\n",
       "      <td>164.337727</td>\n",
       "    </tr>\n",
       "  </tbody>\n",
       "</table>\n",
       "</div>"
      ],
      "text/plain": [
       "             Modelo        R2           RMSE         MAE\n",
       "0            Linear  0.055411  138142.776964  234.900743\n",
       "1  Ridge Regression  0.060763  137360.102330  232.822357\n",
       "2             Lasso  0.062751  137069.401930  231.725174\n",
       "3               SVR  0.317942   99748.575227  164.337727"
      ]
     },
     "execution_count": 36,
     "metadata": {},
     "output_type": "execute_result"
    }
   ],
   "source": [
    "resultados = resultados.append({'Modelo':'SVR',\n",
    "                                'R2':svr_r2,\n",
    "                                'RMSE':svr_rmse,\n",
    "                                'MAE':svr_mae},ignore_index=True)\n",
    "resultados"
   ]
  },
  {
   "cell_type": "code",
   "execution_count": 37,
   "metadata": {
    "colab": {
     "base_uri": "https://localhost:8080/",
     "height": 545
    },
    "executionInfo": {
     "elapsed": 907,
     "status": "ok",
     "timestamp": 1605643092041,
     "user": {
      "displayName": "Lorenzo Fresca",
      "photoUrl": "",
      "userId": "12706337198170933235"
     },
     "user_tz": 180
    },
    "id": "O1alY75TfyWi",
    "outputId": "b78f57f3-d7b9-497f-dc61-6cc68d0a344b",
    "scrolled": true
   },
   "outputs": [
    {
     "data": {
      "text/html": [
       "<div>\n",
       "<style scoped>\n",
       "    .dataframe tbody tr th:only-of-type {\n",
       "        vertical-align: middle;\n",
       "    }\n",
       "\n",
       "    .dataframe tbody tr th {\n",
       "        vertical-align: top;\n",
       "    }\n",
       "\n",
       "    .dataframe thead th {\n",
       "        text-align: right;\n",
       "    }\n",
       "</style>\n",
       "<table border=\"1\" class=\"dataframe\">\n",
       "  <thead>\n",
       "    <tr style=\"text-align: right;\">\n",
       "      <th></th>\n",
       "      <th>index</th>\n",
       "      <th>K</th>\n",
       "      <th>Test Score</th>\n",
       "      <th>Train Score</th>\n",
       "    </tr>\n",
       "  </thead>\n",
       "  <tbody>\n",
       "    <tr>\n",
       "      <th>0</th>\n",
       "      <td>1</td>\n",
       "      <td>2</td>\n",
       "      <td>0.320381</td>\n",
       "      <td>0.668642</td>\n",
       "    </tr>\n",
       "    <tr>\n",
       "      <th>1</th>\n",
       "      <td>0</td>\n",
       "      <td>1</td>\n",
       "      <td>0.270510</td>\n",
       "      <td>1.000000</td>\n",
       "    </tr>\n",
       "    <tr>\n",
       "      <th>2</th>\n",
       "      <td>3</td>\n",
       "      <td>4</td>\n",
       "      <td>0.258963</td>\n",
       "      <td>0.393352</td>\n",
       "    </tr>\n",
       "    <tr>\n",
       "      <th>3</th>\n",
       "      <td>2</td>\n",
       "      <td>3</td>\n",
       "      <td>0.246648</td>\n",
       "      <td>0.488403</td>\n",
       "    </tr>\n",
       "    <tr>\n",
       "      <th>4</th>\n",
       "      <td>15</td>\n",
       "      <td>16</td>\n",
       "      <td>0.133013</td>\n",
       "      <td>0.137630</td>\n",
       "    </tr>\n",
       "    <tr>\n",
       "      <th>5</th>\n",
       "      <td>4</td>\n",
       "      <td>5</td>\n",
       "      <td>0.123317</td>\n",
       "      <td>0.346704</td>\n",
       "    </tr>\n",
       "    <tr>\n",
       "      <th>6</th>\n",
       "      <td>12</td>\n",
       "      <td>13</td>\n",
       "      <td>0.037720</td>\n",
       "      <td>0.104967</td>\n",
       "    </tr>\n",
       "    <tr>\n",
       "      <th>7</th>\n",
       "      <td>14</td>\n",
       "      <td>15</td>\n",
       "      <td>0.023474</td>\n",
       "      <td>0.139656</td>\n",
       "    </tr>\n",
       "    <tr>\n",
       "      <th>8</th>\n",
       "      <td>5</td>\n",
       "      <td>6</td>\n",
       "      <td>0.017082</td>\n",
       "      <td>0.273500</td>\n",
       "    </tr>\n",
       "    <tr>\n",
       "      <th>9</th>\n",
       "      <td>13</td>\n",
       "      <td>14</td>\n",
       "      <td>-0.006563</td>\n",
       "      <td>0.123386</td>\n",
       "    </tr>\n",
       "    <tr>\n",
       "      <th>10</th>\n",
       "      <td>11</td>\n",
       "      <td>12</td>\n",
       "      <td>-0.012414</td>\n",
       "      <td>0.109674</td>\n",
       "    </tr>\n",
       "    <tr>\n",
       "      <th>11</th>\n",
       "      <td>6</td>\n",
       "      <td>7</td>\n",
       "      <td>-0.057898</td>\n",
       "      <td>0.213119</td>\n",
       "    </tr>\n",
       "    <tr>\n",
       "      <th>12</th>\n",
       "      <td>8</td>\n",
       "      <td>9</td>\n",
       "      <td>-0.065178</td>\n",
       "      <td>0.167918</td>\n",
       "    </tr>\n",
       "    <tr>\n",
       "      <th>13</th>\n",
       "      <td>7</td>\n",
       "      <td>8</td>\n",
       "      <td>-0.076023</td>\n",
       "      <td>0.185348</td>\n",
       "    </tr>\n",
       "    <tr>\n",
       "      <th>14</th>\n",
       "      <td>10</td>\n",
       "      <td>11</td>\n",
       "      <td>-0.119457</td>\n",
       "      <td>0.110449</td>\n",
       "    </tr>\n",
       "    <tr>\n",
       "      <th>15</th>\n",
       "      <td>9</td>\n",
       "      <td>10</td>\n",
       "      <td>-0.128456</td>\n",
       "      <td>0.139549</td>\n",
       "    </tr>\n",
       "  </tbody>\n",
       "</table>\n",
       "</div>"
      ],
      "text/plain": [
       "    index   K  Test Score  Train Score\n",
       "0       1   2    0.320381     0.668642\n",
       "1       0   1    0.270510     1.000000\n",
       "2       3   4    0.258963     0.393352\n",
       "3       2   3    0.246648     0.488403\n",
       "4      15  16    0.133013     0.137630\n",
       "5       4   5    0.123317     0.346704\n",
       "6      12  13    0.037720     0.104967\n",
       "7      14  15    0.023474     0.139656\n",
       "8       5   6    0.017082     0.273500\n",
       "9      13  14   -0.006563     0.123386\n",
       "10     11  12   -0.012414     0.109674\n",
       "11      6   7   -0.057898     0.213119\n",
       "12      8   9   -0.065178     0.167918\n",
       "13      7   8   -0.076023     0.185348\n",
       "14     10  11   -0.119457     0.110449\n",
       "15      9  10   -0.128456     0.139549"
      ]
     },
     "execution_count": 37,
     "metadata": {},
     "output_type": "execute_result"
    }
   ],
   "source": [
    "#Probamos KNN Regressor testeando con diferentes K vecinos con un iterador\n",
    "knn_r_acc = []\n",
    "for i in range(1,17,1):\n",
    "    knn = KNeighborsRegressor(n_neighbors=i)\n",
    "    knn.fit(x_train_scaled,y_train)\n",
    "    test_score = knn.score(x_test_scaled,y_test)\n",
    "    train_score = knn.score(x_train_scaled,y_train)\n",
    "    knn_r_acc.append((i, test_score ,train_score))\n",
    "prueba_neighbors = pd.DataFrame(knn_r_acc, columns=['K','Test Score','Train Score'])\n",
    "prueba_neighbors.sort_values('Test Score', ascending=False, inplace=True)\n",
    "prueba_neighbors=prueba_neighbors.reset_index()\n",
    "prueba_neighbors"
   ]
  },
  {
   "cell_type": "code",
   "execution_count": 38,
   "metadata": {
    "colab": {
     "base_uri": "https://localhost:8080/"
    },
    "executionInfo": {
     "elapsed": 1124,
     "status": "ok",
     "timestamp": 1605643097182,
     "user": {
      "displayName": "Lorenzo Fresca",
      "photoUrl": "",
      "userId": "12706337198170933235"
     },
     "user_tz": 180
    },
    "id": "e_JgAzl-fyWj",
    "outputId": "fb9bc70f-5cd9-41dd-d41b-189490a23bc7"
   },
   "outputs": [
    {
     "data": {
      "text/plain": [
       "2"
      ]
     },
     "execution_count": 38,
     "metadata": {},
     "output_type": "execute_result"
    }
   ],
   "source": [
    "k_elegido=prueba_neighbors[\"K\"][0]\n",
    "k_elegido"
   ]
  },
  {
   "cell_type": "code",
   "execution_count": 39,
   "metadata": {
    "executionInfo": {
     "elapsed": 822,
     "status": "ok",
     "timestamp": 1605643100728,
     "user": {
      "displayName": "Lorenzo Fresca",
      "photoUrl": "",
      "userId": "12706337198170933235"
     },
     "user_tz": 180
    },
    "id": "wErc2TPlfyWj"
   },
   "outputs": [],
   "source": [
    "knn = KNeighborsRegressor(n_neighbors=k_elegido)\n",
    "knn.fit(x_train_scaled,y_train)\n",
    "test_score = knn.score(x_test_scaled,y_test)\n",
    "train_score = knn.score(x_train_scaled,y_train)\n",
    "predict_knn= knn.predict(x_test_scaled)\n",
    "knn_rmse = mean_squared_error(y_true=y_test, y_pred=predict_knn)\n",
    "knn_mae = mean_absolute_error(y_true=y_test, y_pred=predict_knn)"
   ]
  },
  {
   "cell_type": "code",
   "execution_count": 40,
   "metadata": {
    "colab": {
     "base_uri": "https://localhost:8080/",
     "height": 204
    },
    "executionInfo": {
     "elapsed": 763,
     "status": "ok",
     "timestamp": 1605643103252,
     "user": {
      "displayName": "Lorenzo Fresca",
      "photoUrl": "",
      "userId": "12706337198170933235"
     },
     "user_tz": 180
    },
    "id": "buS5a-eXfyWj",
    "outputId": "a77a3c6c-9754-4d8c-86da-054dd2423cfc",
    "scrolled": true
   },
   "outputs": [
    {
     "data": {
      "text/html": [
       "<div>\n",
       "<style scoped>\n",
       "    .dataframe tbody tr th:only-of-type {\n",
       "        vertical-align: middle;\n",
       "    }\n",
       "\n",
       "    .dataframe tbody tr th {\n",
       "        vertical-align: top;\n",
       "    }\n",
       "\n",
       "    .dataframe thead th {\n",
       "        text-align: right;\n",
       "    }\n",
       "</style>\n",
       "<table border=\"1\" class=\"dataframe\">\n",
       "  <thead>\n",
       "    <tr style=\"text-align: right;\">\n",
       "      <th></th>\n",
       "      <th>Modelo</th>\n",
       "      <th>R2</th>\n",
       "      <th>RMSE</th>\n",
       "      <th>MAE</th>\n",
       "    </tr>\n",
       "  </thead>\n",
       "  <tbody>\n",
       "    <tr>\n",
       "      <th>0</th>\n",
       "      <td>Linear</td>\n",
       "      <td>0.055411</td>\n",
       "      <td>138142.776964</td>\n",
       "      <td>234.900743</td>\n",
       "    </tr>\n",
       "    <tr>\n",
       "      <th>1</th>\n",
       "      <td>Ridge Regression</td>\n",
       "      <td>0.060763</td>\n",
       "      <td>137360.102330</td>\n",
       "      <td>232.822357</td>\n",
       "    </tr>\n",
       "    <tr>\n",
       "      <th>2</th>\n",
       "      <td>Lasso</td>\n",
       "      <td>0.062751</td>\n",
       "      <td>137069.401930</td>\n",
       "      <td>231.725174</td>\n",
       "    </tr>\n",
       "    <tr>\n",
       "      <th>3</th>\n",
       "      <td>SVR</td>\n",
       "      <td>0.317942</td>\n",
       "      <td>99748.575227</td>\n",
       "      <td>164.337727</td>\n",
       "    </tr>\n",
       "    <tr>\n",
       "      <th>4</th>\n",
       "      <td>KNN (K=2)</td>\n",
       "      <td>0.320381</td>\n",
       "      <td>99391.862500</td>\n",
       "      <td>95.441667</td>\n",
       "    </tr>\n",
       "  </tbody>\n",
       "</table>\n",
       "</div>"
      ],
      "text/plain": [
       "             Modelo        R2           RMSE         MAE\n",
       "0            Linear  0.055411  138142.776964  234.900743\n",
       "1  Ridge Regression  0.060763  137360.102330  232.822357\n",
       "2             Lasso  0.062751  137069.401930  231.725174\n",
       "3               SVR  0.317942   99748.575227  164.337727\n",
       "4         KNN (K=2)  0.320381   99391.862500   95.441667"
      ]
     },
     "execution_count": 40,
     "metadata": {},
     "output_type": "execute_result"
    }
   ],
   "source": [
    "#Elegimos el mejor resultado obtenido\n",
    "resultados = resultados.append({'Modelo':f'KNN (K={k_elegido})',\n",
    "                                'R2':prueba_neighbors[\"Test Score\"].max(),\n",
    "                                'RMSE':knn_rmse,\n",
    "                                'MAE':knn_mae},ignore_index=True)\n",
    "resultados"
   ]
  },
  {
   "cell_type": "code",
   "execution_count": 41,
   "metadata": {
    "executionInfo": {
     "elapsed": 842,
     "status": "ok",
     "timestamp": 1605644010445,
     "user": {
      "displayName": "Lorenzo Fresca",
      "photoUrl": "",
      "userId": "12706337198170933235"
     },
     "user_tz": 180
    },
    "id": "RmUTp830fyWj"
   },
   "outputs": [],
   "source": [
    "# Probamos Polynomial Regression \n",
    "from sklearn.preprocessing import PolynomialFeatures\n",
    "poly_features = PolynomialFeatures(degree=4)\n",
    "X_train_poly = poly_features.fit_transform(x_train_scaled)\n"
   ]
  },
  {
   "cell_type": "code",
   "execution_count": 42,
   "metadata": {
    "executionInfo": {
     "elapsed": 3175,
     "status": "ok",
     "timestamp": 1605644015085,
     "user": {
      "displayName": "Lorenzo Fresca",
      "photoUrl": "",
      "userId": "12706337198170933235"
     },
     "user_tz": 180
    },
    "id": "vM6vg944fyWj"
   },
   "outputs": [],
   "source": [
    "pol_model = LinearRegression()\n",
    "#Entramos al modelo de entrenamiento\n",
    "pol_model.fit(X_train_poly, y_train)\n",
    "y_train_pred = pol_model.predict(X_train_poly)"
   ]
  },
  {
   "cell_type": "code",
   "execution_count": 43,
   "metadata": {
    "executionInfo": {
     "elapsed": 880,
     "status": "ok",
     "timestamp": 1605644015996,
     "user": {
      "displayName": "Lorenzo Fresca",
      "photoUrl": "",
      "userId": "12706337198170933235"
     },
     "user_tz": 180
    },
    "id": "Oj0a-B8CfyWj"
   },
   "outputs": [],
   "source": [
    "#Probamos al modelo de testeo\n",
    "y_test_predict = pol_model.predict(poly_features.fit_transform(x_test_scaled))"
   ]
  },
  {
   "cell_type": "code",
   "execution_count": 44,
   "metadata": {
    "colab": {
     "base_uri": "https://localhost:8080/"
    },
    "executionInfo": {
     "elapsed": 1362,
     "status": "ok",
     "timestamp": 1605644019522,
     "user": {
      "displayName": "Lorenzo Fresca",
      "photoUrl": "",
      "userId": "12706337198170933235"
     },
     "user_tz": 180
    },
    "id": "bsgk0465fyWk",
    "outputId": "9a89af01-3a8c-47ba-ee01-770de895802d",
    "scrolled": false
   },
   "outputs": [
    {
     "name": "stdout",
     "output_type": "stream",
     "text": [
      "El error cuadrático medio de entremiento es 2.0479411327430633e-11\n",
      "El Score es de entrenamiento es 1.0\n"
     ]
    }
   ],
   "source": [
    "#Evaluamos el modelo con los datos de entrenamiento\n",
    "rmse= np.sqrt(mean_squared_error(y_train,y_train_pred))\n",
    "pol_reg_r2 = r2_score(y_train,y_train_pred)\n",
    "print(f'El error cuadrático medio de entremiento es {rmse}')\n",
    "print(f'El Score es de entrenamiento es {pol_reg_r2}')"
   ]
  },
  {
   "cell_type": "code",
   "execution_count": 45,
   "metadata": {
    "colab": {
     "base_uri": "https://localhost:8080/"
    },
    "executionInfo": {
     "elapsed": 763,
     "status": "ok",
     "timestamp": 1605644022400,
     "user": {
      "displayName": "Lorenzo Fresca",
      "photoUrl": "",
      "userId": "12706337198170933235"
     },
     "user_tz": 180
    },
    "id": "iQJkwInJfyWk",
    "outputId": "65090679-2b6d-4155-e267-1573cc967a5d"
   },
   "outputs": [
    {
     "name": "stdout",
     "output_type": "stream",
     "text": [
      "El Score es de testeo es -3.244875635679449\n"
     ]
    }
   ],
   "source": [
    "#Evaluamos al modelo con los datos de testeo\n",
    "rmse_test = np.sqrt(mean_squared_error(y_test, y_test_predict))\n",
    "r2_test = r2_score(y_test, y_test_predict)\n",
    "pol_mae= mean_squared_error(y_true=y_test, y_pred=y_test_predict)\n",
    "print(f'El Score es de testeo es {r2_test}')"
   ]
  },
  {
   "cell_type": "code",
   "execution_count": 46,
   "metadata": {
    "colab": {
     "base_uri": "https://localhost:8080/",
     "height": 421
    },
    "executionInfo": {
     "elapsed": 974,
     "status": "ok",
     "timestamp": 1605644025980,
     "user": {
      "displayName": "Lorenzo Fresca",
      "photoUrl": "",
      "userId": "12706337198170933235"
     },
     "user_tz": 180
    },
    "id": "vUsnFtuyfyWk",
    "outputId": "6633cc74-1f2c-4cd8-a155-80157583aba3",
    "scrolled": false
   },
   "outputs": [
    {
     "data": {
      "text/html": [
       "<div>\n",
       "<style scoped>\n",
       "    .dataframe tbody tr th:only-of-type {\n",
       "        vertical-align: middle;\n",
       "    }\n",
       "\n",
       "    .dataframe tbody tr th {\n",
       "        vertical-align: top;\n",
       "    }\n",
       "\n",
       "    .dataframe thead th {\n",
       "        text-align: right;\n",
       "    }\n",
       "</style>\n",
       "<table border=\"1\" class=\"dataframe\">\n",
       "  <thead>\n",
       "    <tr style=\"text-align: right;\">\n",
       "      <th></th>\n",
       "      <th>Modelo</th>\n",
       "      <th>R2</th>\n",
       "      <th>RMSE</th>\n",
       "      <th>MAE</th>\n",
       "    </tr>\n",
       "  </thead>\n",
       "  <tbody>\n",
       "    <tr>\n",
       "      <th>0</th>\n",
       "      <td>Linear</td>\n",
       "      <td>0.055411</td>\n",
       "      <td>138142.776964</td>\n",
       "      <td>234.900743</td>\n",
       "    </tr>\n",
       "    <tr>\n",
       "      <th>1</th>\n",
       "      <td>Ridge Regression</td>\n",
       "      <td>0.060763</td>\n",
       "      <td>137360.102330</td>\n",
       "      <td>232.822357</td>\n",
       "    </tr>\n",
       "    <tr>\n",
       "      <th>2</th>\n",
       "      <td>Lasso</td>\n",
       "      <td>0.062751</td>\n",
       "      <td>137069.401930</td>\n",
       "      <td>231.725174</td>\n",
       "    </tr>\n",
       "    <tr>\n",
       "      <th>3</th>\n",
       "      <td>SVR</td>\n",
       "      <td>0.317942</td>\n",
       "      <td>99748.575227</td>\n",
       "      <td>164.337727</td>\n",
       "    </tr>\n",
       "    <tr>\n",
       "      <th>4</th>\n",
       "      <td>KNN (K=2)</td>\n",
       "      <td>0.320381</td>\n",
       "      <td>99391.862500</td>\n",
       "      <td>95.441667</td>\n",
       "    </tr>\n",
       "    <tr>\n",
       "      <th>5</th>\n",
       "      <td>Polynomial Regression</td>\n",
       "      <td>-3.244876</td>\n",
       "      <td>787.907414</td>\n",
       "      <td>620798.092505</td>\n",
       "    </tr>\n",
       "  </tbody>\n",
       "</table>\n",
       "</div>"
      ],
      "text/plain": [
       "                  Modelo        R2           RMSE            MAE\n",
       "0                 Linear  0.055411  138142.776964     234.900743\n",
       "1       Ridge Regression  0.060763  137360.102330     232.822357\n",
       "2                  Lasso  0.062751  137069.401930     231.725174\n",
       "3                    SVR  0.317942   99748.575227     164.337727\n",
       "4              KNN (K=2)  0.320381   99391.862500      95.441667\n",
       "5  Polynomial Regression -3.244876     787.907414  620798.092505"
      ]
     },
     "execution_count": 46,
     "metadata": {},
     "output_type": "execute_result"
    }
   ],
   "source": [
    "resultados = resultados.append({'Modelo':'Polynomial Regression',\n",
    "                                'R2':r2_test,\n",
    "                                'RMSE':rmse_test,\n",
    "                                'MAE':pol_mae},ignore_index=True)\n",
    "resultados"
   ]
  },
  {
   "cell_type": "code",
   "execution_count": 47,
   "metadata": {
    "colab": {
     "base_uri": "https://localhost:8080/"
    },
    "executionInfo": {
     "elapsed": 3255,
     "status": "ok",
     "timestamp": 1605643120422,
     "user": {
      "displayName": "Lorenzo Fresca",
      "photoUrl": "",
      "userId": "12706337198170933235"
     },
     "user_tz": 180
    },
    "id": "B7eHnQYffyWk",
    "outputId": "821a0511-9772-45df-bd31-09bb4f5e1add"
   },
   "outputs": [
    {
     "data": {
      "text/plain": [
       "RandomForestRegressor(n_estimators=1000, random_state=42)"
      ]
     },
     "execution_count": 47,
     "metadata": {},
     "output_type": "execute_result"
    }
   ],
   "source": [
    "#Random Forest\n",
    "from sklearn.ensemble import RandomForestRegressor\n",
    "rf = RandomForestRegressor(n_estimators = 1000, random_state = 42)\n",
    "rf.fit(x_train_scaled, y_train)\n"
   ]
  },
  {
   "cell_type": "code",
   "execution_count": 48,
   "metadata": {
    "executionInfo": {
     "elapsed": 923,
     "status": "ok",
     "timestamp": 1605643122863,
     "user": {
      "displayName": "Lorenzo Fresca",
      "photoUrl": "",
      "userId": "12706337198170933235"
     },
     "user_tz": 180
    },
    "id": "e3GYGgwIfyWl"
   },
   "outputs": [],
   "source": [
    "predictions = rf.predict(x_test_scaled)\n",
    "r2_forest = r2_score(y_test, predictions)\n",
    "r2_forest\n",
    "rmse_forest= mean_squared_error(y_true=y_test, y_pred=predictions)\n",
    "mae_forest= mean_absolute_error(y_true=y_test, y_pred=predictions)"
   ]
  },
  {
   "cell_type": "code",
   "execution_count": 49,
   "metadata": {
    "executionInfo": {
     "elapsed": 786,
     "status": "ok",
     "timestamp": 1605643123230,
     "user": {
      "displayName": "Lorenzo Fresca",
      "photoUrl": "",
      "userId": "12706337198170933235"
     },
     "user_tz": 180
    },
    "id": "QeQ-5vmkfyWl"
   },
   "outputs": [],
   "source": [
    "resultados = resultados.append({'Modelo':'Random Forest Regressor',\n",
    "                                'R2':r2_forest,\n",
    "                                'RMSE':rmse_forest,\n",
    "                                'MAE':mae_forest},ignore_index=True)"
   ]
  },
  {
   "cell_type": "code",
   "execution_count": 50,
   "metadata": {
    "colab": {
     "base_uri": "https://localhost:8080/",
     "height": 297
    },
    "executionInfo": {
     "elapsed": 632,
     "status": "ok",
     "timestamp": 1605643124051,
     "user": {
      "displayName": "Lorenzo Fresca",
      "photoUrl": "",
      "userId": "12706337198170933235"
     },
     "user_tz": 180
    },
    "id": "jKMOqRj1fyWm",
    "outputId": "40935cc3-30cb-4756-e26b-50bc85d61873"
   },
   "outputs": [
    {
     "data": {
      "text/html": [
       "<div>\n",
       "<style scoped>\n",
       "    .dataframe tbody tr th:only-of-type {\n",
       "        vertical-align: middle;\n",
       "    }\n",
       "\n",
       "    .dataframe tbody tr th {\n",
       "        vertical-align: top;\n",
       "    }\n",
       "\n",
       "    .dataframe thead th {\n",
       "        text-align: right;\n",
       "    }\n",
       "</style>\n",
       "<table border=\"1\" class=\"dataframe\">\n",
       "  <thead>\n",
       "    <tr style=\"text-align: right;\">\n",
       "      <th></th>\n",
       "      <th>Modelo</th>\n",
       "      <th>R2</th>\n",
       "      <th>RMSE</th>\n",
       "      <th>MAE</th>\n",
       "    </tr>\n",
       "  </thead>\n",
       "  <tbody>\n",
       "    <tr>\n",
       "      <th>4</th>\n",
       "      <td>KNN (K=2)</td>\n",
       "      <td>0.320381</td>\n",
       "      <td>99391.862500</td>\n",
       "      <td>95.441667</td>\n",
       "    </tr>\n",
       "    <tr>\n",
       "      <th>3</th>\n",
       "      <td>SVR</td>\n",
       "      <td>0.317942</td>\n",
       "      <td>99748.575227</td>\n",
       "      <td>164.337727</td>\n",
       "    </tr>\n",
       "    <tr>\n",
       "      <th>6</th>\n",
       "      <td>Random Forest Regressor</td>\n",
       "      <td>0.241314</td>\n",
       "      <td>110955.225157</td>\n",
       "      <td>124.674517</td>\n",
       "    </tr>\n",
       "    <tr>\n",
       "      <th>2</th>\n",
       "      <td>Lasso</td>\n",
       "      <td>0.062751</td>\n",
       "      <td>137069.401930</td>\n",
       "      <td>231.725174</td>\n",
       "    </tr>\n",
       "    <tr>\n",
       "      <th>1</th>\n",
       "      <td>Ridge Regression</td>\n",
       "      <td>0.060763</td>\n",
       "      <td>137360.102330</td>\n",
       "      <td>232.822357</td>\n",
       "    </tr>\n",
       "    <tr>\n",
       "      <th>0</th>\n",
       "      <td>Linear</td>\n",
       "      <td>0.055411</td>\n",
       "      <td>138142.776964</td>\n",
       "      <td>234.900743</td>\n",
       "    </tr>\n",
       "    <tr>\n",
       "      <th>5</th>\n",
       "      <td>Polynomial Regression</td>\n",
       "      <td>-3.244876</td>\n",
       "      <td>787.907414</td>\n",
       "      <td>620798.092505</td>\n",
       "    </tr>\n",
       "  </tbody>\n",
       "</table>\n",
       "</div>"
      ],
      "text/plain": [
       "                    Modelo        R2           RMSE            MAE\n",
       "4                KNN (K=2)  0.320381   99391.862500      95.441667\n",
       "3                      SVR  0.317942   99748.575227     164.337727\n",
       "6  Random Forest Regressor  0.241314  110955.225157     124.674517\n",
       "2                    Lasso  0.062751  137069.401930     231.725174\n",
       "1         Ridge Regression  0.060763  137360.102330     232.822357\n",
       "0                   Linear  0.055411  138142.776964     234.900743\n",
       "5    Polynomial Regression -3.244876     787.907414  620798.092505"
      ]
     },
     "execution_count": 50,
     "metadata": {},
     "output_type": "execute_result"
    }
   ],
   "source": [
    "resultados = resultados.sort_values('R2', ascending=False)\n",
    "resultados"
   ]
  },
  {
   "cell_type": "code",
   "execution_count": 51,
   "metadata": {
    "executionInfo": {
     "elapsed": 717,
     "status": "ok",
     "timestamp": 1605643124366,
     "user": {
      "displayName": "Lorenzo Fresca",
      "photoUrl": "",
      "userId": "12706337198170933235"
     },
     "user_tz": 180
    },
    "id": "i0yTOFD6fyWm"
   },
   "outputs": [],
   "source": [
    "resultados=resultados.reset_index()"
   ]
  },
  {
   "cell_type": "code",
   "execution_count": 52,
   "metadata": {
    "colab": {
     "base_uri": "https://localhost:8080/"
    },
    "executionInfo": {
     "elapsed": 759,
     "status": "ok",
     "timestamp": 1605643124755,
     "user": {
      "displayName": "Lorenzo Fresca",
      "photoUrl": "",
      "userId": "12706337198170933235"
     },
     "user_tz": 180
    },
    "id": "7nsYyL2QfyWm",
    "outputId": "5a7e787c-9979-4eae-81d9-42691d8ff7e1"
   },
   "outputs": [
    {
     "name": "stdout",
     "output_type": "stream",
     "text": [
      "El mejor estimador de regresión es: KNN (K=2) con un R2 de 0.3204\n"
     ]
    }
   ],
   "source": [
    "print(f'El mejor estimador de regresión es: {resultados[\"Modelo\"][0]} con un R2 de {round(resultados[\"R2\"][0],4)}')"
   ]
  }
 ],
 "metadata": {
  "colab": {
   "collapsed_sections": [],
   "name": "Dengue - Modelos.ipynb",
   "provenance": []
  },
  "kernelspec": {
   "display_name": "Python 3",
   "language": "python",
   "name": "python3"
  },
  "language_info": {
   "codemirror_mode": {
    "name": "ipython",
    "version": 3
   },
   "file_extension": ".py",
   "mimetype": "text/x-python",
   "name": "python",
   "nbconvert_exporter": "python",
   "pygments_lexer": "ipython3",
   "version": "3.8.3"
  }
 },
 "nbformat": 4,
 "nbformat_minor": 1
}
